{
  "nbformat": 4,
  "nbformat_minor": 0,
  "metadata": {
    "colab": {
      "name": "python_study.ipynb",
      "version": "0.3.2",
      "provenance": [],
      "collapsed_sections": [],
      "include_colab_link": true
    },
    "kernelspec": {
      "name": "python2",
      "display_name": "Python 2"
    }
  },
  "cells": [
    {
      "cell_type": "markdown",
      "metadata": {
        "id": "view-in-github",
        "colab_type": "text"
      },
      "source": [
        "<a href=\"https://colab.research.google.com/github/Hyenni/practice_python/blob/master/python_study.ipynb\" target=\"_parent\"><img src=\"https://colab.research.google.com/assets/colab-badge.svg\" alt=\"Open In Colab\"/></a>"
      ]
    },
    {
      "metadata": {
        "id": "-7qTHmECVQyM",
        "colab_type": "text"
      },
      "cell_type": "markdown",
      "source": [
        "* **Exercise 1**\n",
        "\n",
        "사과를 담는데 필요한 바구니의 수를 구하는 프로그램을 작성하시오.\n",
        "(사과의 개수와 바구니에 담을 수 있는 사과의 개수를 입력받고, 필요한 바구니의 개수를 출력하도록 한다)\n",
        "\n"
      ]
    },
    {
      "metadata": {
        "id": "dWP7jOfmVszi",
        "colab_type": "code",
        "colab": {
          "base_uri": "https://localhost:8080/",
          "height": 71
        },
        "outputId": "373e40ab-b442-4c72-951a-1fac7940d44e"
      },
      "cell_type": "code",
      "source": [
        "number_apple = input(\"the number of apples: \")\n",
        "basket = input(\"the size of basket: \")\n",
        "\n",
        "if (number_apple%basket) > 0:\n",
        "    needs = number_apple/basket + 1\n",
        "else:\n",
        "    needs = number_apple/basket\n",
        "\n",
        "\n",
        "print \"Number of needed basket: \", needs"
      ],
      "execution_count": 1,
      "outputs": [
        {
          "output_type": "stream",
          "text": [
            "the number of apples: 123\n",
            "the size of basket: 10\n",
            "Number of needed basket:  13\n"
          ],
          "name": "stdout"
        }
      ]
    },
    {
      "metadata": {
        "id": "oY3xVX8jWBg6",
        "colab_type": "text"
      },
      "cell_type": "markdown",
      "source": [
        "* **Exercise 2**\n",
        "\n",
        "변수의 num 값 중에 백의 자리 이하를 버리는 프로그램을 작성하시오."
      ]
    },
    {
      "metadata": {
        "id": "R5cXfx36Wdc6",
        "colab_type": "code",
        "colab": {
          "base_uri": "https://localhost:8080/",
          "height": 53
        },
        "outputId": "c447a78e-0419-4e8e-f503-e2254b4fba59"
      },
      "cell_type": "code",
      "source": [
        "num = input(\"Please enter a number: \")\n",
        "\n",
        "remainder = num%100\n",
        "\n",
        "final = num - remainder\n",
        "\n",
        "print final"
      ],
      "execution_count": 2,
      "outputs": [
        {
          "output_type": "stream",
          "text": [
            "Please enter a number: 456\n",
            "400\n"
          ],
          "name": "stdout"
        }
      ]
    },
    {
      "metadata": {
        "id": "BoJZGMztWm1i",
        "colab_type": "text"
      },
      "cell_type": "markdown",
      "source": [
        "* **Exercise 3**\n",
        "\n",
        "사용자로부터 4자리 숫자를 입력받아, 각 자리 수의 합을 구해 출력하는 프로그램을 구현하시오."
      ]
    },
    {
      "metadata": {
        "id": "LcWwJ55BWw--",
        "colab_type": "code",
        "colab": {
          "base_uri": "https://localhost:8080/",
          "height": 53
        },
        "outputId": "75765fe3-5038-42cc-e75a-8acea76fac5d"
      },
      "cell_type": "code",
      "source": [
        "#version_1\n",
        "\n",
        "num = input(\"input 4 digits: \")\n",
        "\n",
        "i=0\n",
        "sum=0\n",
        "\n",
        "while i<4:\n",
        "    sum = sum + num%10\n",
        "    num = num/10\n",
        "    i = i+1\n",
        "\n",
        "\n",
        "print sum"
      ],
      "execution_count": 3,
      "outputs": [
        {
          "output_type": "stream",
          "text": [
            "input 4 digits: 1234\n",
            "10\n"
          ],
          "name": "stdout"
        }
      ]
    },
    {
      "metadata": {
        "id": "aUzXUZ2CW5_6",
        "colab_type": "code",
        "colab": {
          "base_uri": "https://localhost:8080/",
          "height": 53
        },
        "outputId": "710e5431-9631-4b31-b2df-d06804e8e458"
      },
      "cell_type": "code",
      "source": [
        "#version2\n",
        "number = input(\"input 4 digits: \")\n",
        "\n",
        "num1 = number / 1000;\n",
        "number = number - (num1*1000);\n",
        "\n",
        "\n",
        "num2 = number / 100;\n",
        "number = number - (num2*100);\n",
        "\n",
        "\n",
        "num3 = number / 10;\n",
        "number = number - (num3*10);\n",
        "\n",
        "\n",
        "num4 = number / 1;\n",
        "\n",
        "\n",
        "print(num1 + num2 + num3 +num4)"
      ],
      "execution_count": 4,
      "outputs": [
        {
          "output_type": "stream",
          "text": [
            "input 4 digits: 9145\n",
            "19\n"
          ],
          "name": "stdout"
        }
      ]
    },
    {
      "metadata": {
        "id": "cv1MFysdW_BK",
        "colab_type": "text"
      },
      "cell_type": "markdown",
      "source": [
        "* **Exercise 4**\n",
        "\n",
        "사용자로부터 입력받은 문자열의 길이 (문자의 개수)를 출력하는 프로그램을 작성하시오. 또한 자료형은 무엇인지 출력하시오."
      ]
    },
    {
      "metadata": {
        "id": "adrrLYCYXIwE",
        "colab_type": "code",
        "colab": {
          "base_uri": "https://localhost:8080/",
          "height": 71
        },
        "outputId": "1e5a2125-c34b-4ed5-d107-5af94a6bd88e"
      },
      "cell_type": "code",
      "source": [
        "string1 = raw_input(\"Please enter a string: \")\n",
        "\n",
        "num = len(string1)\n",
        "typ = type(string1)\n",
        "\n",
        "print \"Number of characters: %d\" %num\n",
        "print \"Data type: %s\" %typ"
      ],
      "execution_count": 5,
      "outputs": [
        {
          "output_type": "stream",
          "text": [
            "Please enter a string: hello!python\n",
            "Number of characters: 12\n",
            "Data type: <type 'str'>\n"
          ],
          "name": "stdout"
        }
      ]
    },
    {
      "metadata": {
        "id": "7QMnXt6KZm_D",
        "colab_type": "text"
      },
      "cell_type": "markdown",
      "source": [
        "* **Exercise 5**\n",
        "\n",
        "while문을 이용하여 1부터 100까지 3으로 나눈 나머지가 2인 수들의 합을 계산하라."
      ]
    },
    {
      "metadata": {
        "id": "AE6Cv3JaZ2h0",
        "colab_type": "code",
        "colab": {
          "base_uri": "https://localhost:8080/",
          "height": 35
        },
        "outputId": "c0a3a730-4ba7-47ef-e5f1-30f30ce551f7"
      },
      "cell_type": "code",
      "source": [
        "i = 0\n",
        "sum = 0\n",
        "\n",
        "while i <= 100:\n",
        "    if i%3 == 2:\n",
        "        sum += i\n",
        "        i += 1\n",
        "    else:\n",
        "        i += 1\n",
        "\n",
        "\n",
        "print '3으로 나눈 나머지가 2인 수들의 합: ',sum"
      ],
      "execution_count": 6,
      "outputs": [
        {
          "output_type": "stream",
          "text": [
            "3으로 나눈 나머지가 2인 수들의 합:  1650\n"
          ],
          "name": "stdout"
        }
      ]
    },
    {
      "metadata": {
        "id": "LcbeLQTTaHps",
        "colab_type": "text"
      },
      "cell_type": "markdown",
      "source": [
        "* **Exercise 6**\n",
        "\n",
        "for문을 이용하여 1부터 20까지 4로 나눈 나머지가 0이거나 1인 수들의 곱을 계산하라."
      ]
    },
    {
      "metadata": {
        "id": "A-WObFBmaQBF",
        "colab_type": "code",
        "colab": {
          "base_uri": "https://localhost:8080/",
          "height": 35
        },
        "outputId": "b5d6acf8-7c88-461c-8da6-ee4beca3910f"
      },
      "cell_type": "code",
      "source": [
        "result = 1\n",
        "\n",
        "for i in range(1,21):\n",
        "    if i%4 == 0:\n",
        "        result *= i\n",
        "    elif i%4 == 1:\n",
        "        result *= i\n",
        "    else:\n",
        "        continue\n",
        "\n",
        "print '4로 나눈 나머지가 0이거나 1인 수들의 곱(1~20): ',result"
      ],
      "execution_count": 7,
      "outputs": [
        {
          "output_type": "stream",
          "text": [
            "4로 나눈 나머지가 0이거나 1인 수들의 곱(1~20):  1222041600\n"
          ],
          "name": "stdout"
        }
      ]
    },
    {
      "metadata": {
        "id": "6EEKdV3HaU0c",
        "colab_type": "text"
      },
      "cell_type": "markdown",
      "source": [
        "* **Exercise 7**\n",
        "\n",
        "사용자로부터 문자열과 숫자를 입력받아 숫자만큼 문자열을 반복하는 프로그램을 구현하시오."
      ]
    },
    {
      "metadata": {
        "id": "3xY7PYWiajYc",
        "colab_type": "code",
        "colab": {
          "base_uri": "https://localhost:8080/",
          "height": 71
        },
        "outputId": "77e458a2-34c1-42d2-9567-e3803d05d12c"
      },
      "cell_type": "code",
      "source": [
        "string = raw_input(\"Please enter a string: \")\n",
        "num = input(\"Please enter the number of times to repeat: \")\n",
        "\n",
        "\n",
        "print string * num"
      ],
      "execution_count": 8,
      "outputs": [
        {
          "output_type": "stream",
          "text": [
            "Please enter a string: python\n",
            "Please enter the number of times to repeat: 3\n",
            "pythonpythonpython\n"
          ],
          "name": "stdout"
        }
      ]
    },
    {
      "metadata": {
        "id": "BCt06d0_asH8",
        "colab_type": "text"
      },
      "cell_type": "markdown",
      "source": [
        "* **Exercise 8**\n",
        "\n",
        "사용자로부터 점수를 받아 해당하는 등급(a,b,c,d,e)을 출력하는 프로그램을 구현하시오.\n",
        "[0 입력시 종료]\n"
      ]
    },
    {
      "metadata": {
        "id": "7y7YHP2fa6cv",
        "colab_type": "code",
        "colab": {
          "base_uri": "https://localhost:8080/",
          "height": 125
        },
        "outputId": "359b11c0-e5cc-4c8e-8a0d-36692d6aa587"
      },
      "cell_type": "code",
      "source": [
        "while True:\n",
        "    score = input(\"Please enter your score: \")\n",
        "    if score == 0:\n",
        "        break\n",
        "    elif score >= 90:\n",
        "        print \"A\"\n",
        "    elif score >= 80:\n",
        "        print \"B\"\n",
        "    elif score >= 70:\n",
        "        print \"C\"\n",
        "    elif score >= 60:\n",
        "        print \"D\"\n",
        "    else:\n",
        "        print \"E\"\n",
        "\n",
        "print 'end'"
      ],
      "execution_count": 9,
      "outputs": [
        {
          "output_type": "stream",
          "text": [
            "Please enter your score: 90\n",
            "A\n",
            "Please enter your score: 55\n",
            "E\n",
            "Please enter your score: 0\n",
            "end\n"
          ],
          "name": "stdout"
        }
      ]
    },
    {
      "metadata": {
        "id": "RPY4xnM_dk9N",
        "colab_type": "text"
      },
      "cell_type": "markdown",
      "source": [
        "* **Exercise 9**\n",
        "\n",
        "논리연산자의 이해"
      ]
    },
    {
      "metadata": {
        "id": "pcnZBfeLeNpm",
        "colab_type": "code",
        "colab": {
          "base_uri": "https://localhost:8080/",
          "height": 197
        },
        "outputId": "f17000ef-05e7-45f3-b11e-c19ea73c8f9c"
      },
      "cell_type": "code",
      "source": [
        "print 2 and 1\n",
        "print 1 and 3\n",
        "print bool(1 and 3)\n",
        "print 2 or 1\n",
        "print [[]] or 1\n",
        "print bool([[]] or 1)\n",
        "print [{}] and 1\n",
        "print [{}] and 0\n",
        "print '' or 1\n",
        "print '' and 1"
      ],
      "execution_count": 10,
      "outputs": [
        {
          "output_type": "stream",
          "text": [
            "1\n",
            "3\n",
            "True\n",
            "2\n",
            "[[]]\n",
            "True\n",
            "1\n",
            "0\n",
            "1\n",
            "\n"
          ],
          "name": "stdout"
        }
      ]
    },
    {
      "metadata": {
        "id": "uwkva7mIekP1",
        "colab_type": "text"
      },
      "cell_type": "markdown",
      "source": [
        "* **Exercise 10**\n",
        "\n",
        "컴퓨터가 0~30 사이의 정수를 임의로 생성하고, 사용자가 그 숫자를 맞히도록 유도하는 프로그램을 구현하시오."
      ]
    },
    {
      "metadata": {
        "id": "cgwlKgKbeqVl",
        "colab_type": "code",
        "colab": {
          "base_uri": "https://localhost:8080/",
          "height": 89
        },
        "outputId": "c609e1e6-4516-45ee-d282-3509e91ac756"
      },
      "cell_type": "code",
      "source": [
        "import random\n",
        "\n",
        "n = random.randint(0,30)\n",
        "\n",
        "while True:\n",
        "    num = input(\"Please enter a number between 0 and 30: \")\n",
        "    if num == n:\n",
        "        print \"correct!\"\n",
        "        break\n",
        "    elif num > n:\n",
        "        print \"too large!\"\n",
        "        continue\n",
        "    else:\n",
        "        print \"too small!\"\n",
        "        continue"
      ],
      "execution_count": 11,
      "outputs": [
        {
          "output_type": "stream",
          "text": [
            "Please enter a number between 0 and 30: 25\n",
            "too small!\n",
            "Please enter a number between 0 and 30: 29\n",
            "correct!\n"
          ],
          "name": "stdout"
        }
      ]
    },
    {
      "metadata": {
        "id": "se61V0M7e7XH",
        "colab_type": "text"
      },
      "cell_type": "markdown",
      "source": [
        "* **Exercise 11**\n",
        "\n",
        "삼각형 출력하기"
      ]
    },
    {
      "metadata": {
        "id": "ej8-iKbIfMco",
        "colab_type": "code",
        "colab": {
          "base_uri": "https://localhost:8080/",
          "height": 341
        },
        "outputId": "3836e62b-a1db-4b3b-d8a0-579b5b46df20"
      },
      "cell_type": "code",
      "source": [
        "num = input(\"Please enter a number: \")\n",
        "s = ''\n",
        "\n",
        "for a in range(1,num+1):\n",
        "    s = s + \"*\"*a\n",
        "    print s\n",
        "    s = ''\n",
        "\n",
        "\n",
        "\n",
        "num = input(\"Please enter a number: \")\n",
        "a=0\n",
        "s=''\n",
        "\n",
        "while a<num:\n",
        "    s = s + \"*\"*num\n",
        "    num = num - 1\n",
        "    print s\n",
        "    s = ''\n",
        "\n",
        "\n",
        "num = input(\"Please enter a number: \")\n",
        "s = ''\n",
        "\n",
        "for a in range(1,num+1):\n",
        "    s = s + ' '*(num-a) + \"*\"*a\n",
        "    print s\n",
        "    s = ''\n",
        "\n"
      ],
      "execution_count": 12,
      "outputs": [
        {
          "output_type": "stream",
          "text": [
            "Please enter a number: 5\n",
            "*\n",
            "**\n",
            "***\n",
            "****\n",
            "*****\n",
            "Please enter a number: 5\n",
            "*****\n",
            "****\n",
            "***\n",
            "**\n",
            "*\n",
            "Please enter a number: 5\n",
            "    *\n",
            "   **\n",
            "  ***\n",
            " ****\n",
            "*****\n"
          ],
          "name": "stdout"
        }
      ]
    },
    {
      "metadata": {
        "id": "It90Lj_xf7np",
        "colab_type": "text"
      },
      "cell_type": "markdown",
      "source": [
        "* **Exercise 12**\n",
        "\n",
        "문자열 메소드 이해"
      ]
    },
    {
      "metadata": {
        "id": "kUe9DEUUghrX",
        "colab_type": "code",
        "colab": {
          "base_uri": "https://localhost:8080/",
          "height": 125
        },
        "outputId": "edac5340-ab59-4ff5-df33-bbf401571d74"
      },
      "cell_type": "code",
      "source": [
        "#replace\n",
        "s = 'Somewhere on the rainbow'\n",
        "\n",
        "s = s.replace('on','over')\n",
        "print s\n",
        "\n",
        "\n",
        "s = raw_input(\"Write anything you want: \")\n",
        "for i in s:\n",
        "    if i in [\"a\",\"e\",\"i\",\"o\",\"u\",\" \"]:\n",
        "        s = s.replace(i,\"\")\n",
        "print s\n",
        "\n",
        "\n",
        "#split\n",
        "s = '/user/local/bin/python'\n",
        "\n",
        "s = s.split('/')\n",
        "print s\n",
        "\n",
        "\n",
        "#count\n",
        "s = '''Python is a dynamic object-oriented programming language\n",
        "that can be used for many kinds of software development.\n",
        "It offers strong support for integration with other languages\n",
        "and tools, comes with extensive standard libraries, and can\n",
        "be learned in a few days. Many Python programmers report\n",
        "substantial productivity gains and feel the language encourages\n",
        "the development of higher quality, more maintainable code.\n",
        "'''\n",
        "\n",
        "num = s.count(\"\\n\")\n",
        "print num\n",
        "\n",
        "\n",
        "#lower\n",
        "s = 'spam Spam SpaM egg eGG Egg ham hAm'\n",
        "num = s.lower().count('spam')\n",
        "print num"
      ],
      "execution_count": 13,
      "outputs": [
        {
          "output_type": "stream",
          "text": [
            "Somewhere over the rainbow\n",
            "Write anything you want: aabecidoeu\n",
            "bcd\n",
            "['', 'user', 'local', 'bin', 'python']\n",
            "7\n",
            "3\n"
          ],
          "name": "stdout"
        }
      ]
    },
    {
      "metadata": {
        "id": "9RnmVdWXhPyP",
        "colab_type": "text"
      },
      "cell_type": "markdown",
      "source": [
        "* **Exercise 13**\n",
        "\n",
        "for문을 사용하여 어떤 주어진 문자열의 순서를 완전히 뒤집어라."
      ]
    },
    {
      "metadata": {
        "id": "CUKl2t3AhWhP",
        "colab_type": "code",
        "colab": {
          "base_uri": "https://localhost:8080/",
          "height": 35
        },
        "outputId": "f2a1e2d7-575d-4f30-e7b0-f2fb426bebc6"
      },
      "cell_type": "code",
      "source": [
        "#version1\n",
        "\n",
        "s='python'\n",
        "s_new=''\n",
        "length=len(s)\n",
        "\n",
        "for i in s:\n",
        "    length = length-1\n",
        "    s_new = s_new + s[length]\n",
        "print s_new"
      ],
      "execution_count": 14,
      "outputs": [
        {
          "output_type": "stream",
          "text": [
            "nohtyp\n"
          ],
          "name": "stdout"
        }
      ]
    },
    {
      "metadata": {
        "id": "0CDuNecMhyH1",
        "colab_type": "code",
        "colab": {
          "base_uri": "https://localhost:8080/",
          "height": 35
        },
        "outputId": "a846ff2f-f5a7-4907-b357-4f414fc1d61b"
      },
      "cell_type": "code",
      "source": [
        "#version2\n",
        "\n",
        "s='python'\n",
        "s_new=''\n",
        "length=len(s)\n",
        "\n",
        "for i in range(1,length+1):\n",
        "    s_new = s_new + s[length-i]\n",
        "\n",
        "print s_new"
      ],
      "execution_count": 15,
      "outputs": [
        {
          "output_type": "stream",
          "text": [
            "nohtyp\n"
          ],
          "name": "stdout"
        }
      ]
    },
    {
      "metadata": {
        "id": "9EVw8iKph90H",
        "colab_type": "text"
      },
      "cell_type": "markdown",
      "source": [
        "* **Exercise 14**\n",
        "\n",
        "다음 문장안의 단어들 길이의 평균을 구하는 프로그램을 작성하시오."
      ]
    },
    {
      "metadata": {
        "id": "3IYxI4D8iILI",
        "colab_type": "code",
        "colab": {
          "base_uri": "https://localhost:8080/",
          "height": 35
        },
        "outputId": "a14f8304-ca99-422b-f345-4351af48f9ca"
      },
      "cell_type": "code",
      "source": [
        "s = 'Write a program that calculates the average word length in a sentence'\n",
        "\n",
        "\n",
        "words = s.split()\n",
        "sum=0\n",
        "k=0\n",
        "\n",
        "for i in words:\n",
        "    length = len(i)\n",
        "    sum = sum + length\n",
        "    k = k + 1\n",
        "average = sum/k\n",
        "\n",
        "print average"
      ],
      "execution_count": 16,
      "outputs": [
        {
          "output_type": "stream",
          "text": [
            "4\n"
          ],
          "name": "stdout"
        }
      ]
    },
    {
      "metadata": {
        "id": "lsAu4hX0iLhf",
        "colab_type": "text"
      },
      "cell_type": "markdown",
      "source": [
        "* **Exercise 15**\n",
        "\n",
        "구(phrase)를 입력하면 두문자어(Acronym)으로 바꿔서 출력해주는 프로그램을 작성하시오."
      ]
    },
    {
      "metadata": {
        "id": "DW6TXBQyiXss",
        "colab_type": "code",
        "colab": {
          "base_uri": "https://localhost:8080/",
          "height": 53
        },
        "outputId": "43cb1cf8-168a-4e22-eebd-fc0ebf770610"
      },
      "cell_type": "code",
      "source": [
        "s = raw_input(\"insert phrase: \")\n",
        "\n",
        "acronym = ''\n",
        "words = s.split()\n",
        "\n",
        "for i in words:\n",
        "    acronym = acronym + i[0].upper()\n",
        "print s + \"'s acronym: \" ,acronym"
      ],
      "execution_count": 17,
      "outputs": [
        {
          "output_type": "stream",
          "text": [
            "insert phrase: central processing unit\n",
            "central processing unit's acronym:  CPU\n"
          ],
          "name": "stdout"
        }
      ]
    },
    {
      "metadata": {
        "id": "w8uCYms4i0Zz",
        "colab_type": "text"
      },
      "cell_type": "markdown",
      "source": [
        "* **Exercise 16**\n",
        "\n",
        "2진수로 표현된 자연수를 입력하면 10진수로 바꾸어 출력하는 프로그램을 작성하시오."
      ]
    },
    {
      "metadata": {
        "id": "gCuAe-1_i7cp",
        "colab_type": "code",
        "colab": {
          "base_uri": "https://localhost:8080/",
          "height": 53
        },
        "outputId": "fef4ea5c-1a39-4034-cbdd-14b0e685d6e4"
      },
      "cell_type": "code",
      "source": [
        "#version1\n",
        "s = input(\"insert binary number: \")\n",
        "\n",
        "num_two = s\n",
        "prod = 1\n",
        "num_ten = 0\n",
        "\n",
        "\n",
        "while num_two<>0:\n",
        "    number = num_two%10\n",
        "    num_ten = num_ten + number*prod\n",
        "    num_two = num_two/10\n",
        "    prod *= 2\n",
        "    \n",
        "print '%d를 십진수로 표현하면 %d 입니다.' %(s,num_ten)"
      ],
      "execution_count": 18,
      "outputs": [
        {
          "output_type": "stream",
          "text": [
            "insert binary number: 10101\n",
            "10101를 십진수로 표현하면 21 입니다.\n"
          ],
          "name": "stdout"
        }
      ]
    },
    {
      "metadata": {
        "id": "tiXJWCpPjFpA",
        "colab_type": "code",
        "colab": {
          "base_uri": "https://localhost:8080/",
          "height": 71
        },
        "outputId": "a6acb8c5-adbd-45d1-e042-3e43dcdf9800"
      },
      "cell_type": "code",
      "source": [
        "#version2\n",
        "num_two = raw_input('insert binary number: ')\n",
        "num_list = list(num_two)\n",
        "num_list.reverse()\n",
        "\n",
        "print num_list\n",
        "\n",
        "num_ten = 0\n",
        "n = 0\n",
        "\n",
        "for i in num_list:\n",
        "    ten = int(i) * (2 ** n)\n",
        "    num_ten += ten\n",
        "    n += 1\n",
        "  \n",
        "print num_two + '를 십진수로 표현하면 ' + '%d' % (num_ten) + '입니다.'"
      ],
      "execution_count": 19,
      "outputs": [
        {
          "output_type": "stream",
          "text": [
            "insert binary number: 111000\n",
            "['0', '0', '0', '1', '1', '1']\n",
            "111000를 십진수로 표현하면 56입니다.\n"
          ],
          "name": "stdout"
        }
      ]
    },
    {
      "metadata": {
        "id": "CWNZ0E0sjMUi",
        "colab_type": "text"
      },
      "cell_type": "markdown",
      "source": [
        "* **Exercise 17**\n",
        "\n",
        "Find the sum of all the multiples of 3 or 5 below 1000."
      ]
    },
    {
      "metadata": {
        "id": "9MCLWOYejeAo",
        "colab_type": "code",
        "colab": {
          "base_uri": "https://localhost:8080/",
          "height": 35
        },
        "outputId": "4627b192-83ca-4da5-b025-75c4a5bc32fe"
      },
      "cell_type": "code",
      "source": [
        "sum = 0\n",
        "\n",
        "for i in range(1,1000):\n",
        "    if i%3 == 0 or i%5 == 0:\n",
        "        sum += i\n",
        "\n",
        "print sum"
      ],
      "execution_count": 20,
      "outputs": [
        {
          "output_type": "stream",
          "text": [
            "233168\n"
          ],
          "name": "stdout"
        }
      ]
    },
    {
      "metadata": {
        "id": "1mCWu1i3jmEX",
        "colab_type": "text"
      },
      "cell_type": "markdown",
      "source": [
        "* **Exercise 18**\n",
        "\n",
        "문자열 s에 대해서 단어의 순서가 바뀐 문자열을 만들어라."
      ]
    },
    {
      "metadata": {
        "id": "PvBf-airkBXh",
        "colab_type": "code",
        "colab": {
          "base_uri": "https://localhost:8080/",
          "height": 53
        },
        "outputId": "e07c2f90-5425-4e5c-d3e7-da0ce1a830c8"
      },
      "cell_type": "code",
      "source": [
        "s = 'Sometimes I feel like a motherless child'\n",
        "\n",
        "words = s.split()\n",
        "words.reverse()\n",
        "print words\n",
        "\n",
        "string = ''\n",
        "for w in words:\n",
        "    string = string + w + ' '\n",
        "\n",
        "print string"
      ],
      "execution_count": 37,
      "outputs": [
        {
          "output_type": "stream",
          "text": [
            "['child', 'motherless', 'a', 'like', 'feel', 'I', 'Sometimes']\n",
            "child motherless a like feel I Sometimes \n"
          ],
          "name": "stdout"
        }
      ]
    },
    {
      "metadata": {
        "id": "RLd6U-TPksXS",
        "colab_type": "text"
      },
      "cell_type": "markdown",
      "source": [
        "* **Exercise 19**\n",
        "\n",
        "List Comprehension"
      ]
    },
    {
      "metadata": {
        "id": "YqLFQEYlk2qk",
        "colab_type": "code",
        "colab": {
          "base_uri": "https://localhost:8080/",
          "height": 109
        },
        "outputId": "1b4fe147-f482-4dce-e44e-b175938b1efa"
      },
      "cell_type": "code",
      "source": [
        "x = [1,2,3,4,5]\n",
        "\n",
        "square = [i*i for i in x]\n",
        "print square\n",
        "\n",
        "\n",
        "p = ['kim','hye','in']\n",
        "last_name = [i[-1] for i in p ]\n",
        "print last_name\n",
        "\n",
        "\n",
        "y = [1,2,3,4,5,6,7,8,9,10]\n",
        "multiple = [i for i in y if i%5==0]\n",
        "print multiple\n",
        "\n",
        "\n",
        "multiple7 = [(i,j,i*j) for i in range(3,100,3) for j in range(4,100,4) if (i+j)%7 == 0]\n",
        "print multiple7\n"
      ],
      "execution_count": 23,
      "outputs": [
        {
          "output_type": "stream",
          "text": [
            "[1, 4, 9, 16, 25]\n",
            "['m', 'e', 'n']\n",
            "[5, 10]\n",
            "[(3, 4, 12), (3, 32, 96), (3, 60, 180), (3, 88, 264), (6, 8, 48), (6, 36, 216), (6, 64, 384), (6, 92, 552), (9, 12, 108), (9, 40, 360), (9, 68, 612), (9, 96, 864), (12, 16, 192), (12, 44, 528), (12, 72, 864), (15, 20, 300), (15, 48, 720), (15, 76, 1140), (18, 24, 432), (18, 52, 936), (18, 80, 1440), (21, 28, 588), (21, 56, 1176), (21, 84, 1764), (24, 4, 96), (24, 32, 768), (24, 60, 1440), (24, 88, 2112), (27, 8, 216), (27, 36, 972), (27, 64, 1728), (27, 92, 2484), (30, 12, 360), (30, 40, 1200), (30, 68, 2040), (30, 96, 2880), (33, 16, 528), (33, 44, 1452), (33, 72, 2376), (36, 20, 720), (36, 48, 1728), (36, 76, 2736), (39, 24, 936), (39, 52, 2028), (39, 80, 3120), (42, 28, 1176), (42, 56, 2352), (42, 84, 3528), (45, 4, 180), (45, 32, 1440), (45, 60, 2700), (45, 88, 3960), (48, 8, 384), (48, 36, 1728), (48, 64, 3072), (48, 92, 4416), (51, 12, 612), (51, 40, 2040), (51, 68, 3468), (51, 96, 4896), (54, 16, 864), (54, 44, 2376), (54, 72, 3888), (57, 20, 1140), (57, 48, 2736), (57, 76, 4332), (60, 24, 1440), (60, 52, 3120), (60, 80, 4800), (63, 28, 1764), (63, 56, 3528), (63, 84, 5292), (66, 4, 264), (66, 32, 2112), (66, 60, 3960), (66, 88, 5808), (69, 8, 552), (69, 36, 2484), (69, 64, 4416), (69, 92, 6348), (72, 12, 864), (72, 40, 2880), (72, 68, 4896), (72, 96, 6912), (75, 16, 1200), (75, 44, 3300), (75, 72, 5400), (78, 20, 1560), (78, 48, 3744), (78, 76, 5928), (81, 24, 1944), (81, 52, 4212), (81, 80, 6480), (84, 28, 2352), (84, 56, 4704), (84, 84, 7056), (87, 4, 348), (87, 32, 2784), (87, 60, 5220), (87, 88, 7656), (90, 8, 720), (90, 36, 3240), (90, 64, 5760), (90, 92, 8280), (93, 12, 1116), (93, 40, 3720), (93, 68, 6324), (93, 96, 8928), (96, 16, 1536), (96, 44, 4224), (96, 72, 6912), (99, 20, 1980), (99, 48, 4752), (99, 76, 7524)]\n"
          ],
          "name": "stdout"
        }
      ]
    },
    {
      "metadata": {
        "id": "DgPu8jd1lcYY",
        "colab_type": "text"
      },
      "cell_type": "markdown",
      "source": [
        "* **Exercise 20**\n",
        "\n",
        "python 기숙사는 10층으로 되어있고, 층 별로 1개의 방이 있다. 각 방에는 1-5명까지의 사람들이 들어갈 수 있다. 이 때, 각 층별 학생 수와 전체 학생 수를 출력하는 프로그램을 작성해보시오. [리스트 이용]"
      ]
    },
    {
      "metadata": {
        "id": "B8NZZFQQmfqF",
        "colab_type": "code",
        "colab": {
          "base_uri": "https://localhost:8080/",
          "height": 215
        },
        "outputId": "cfae9534-d6e7-40ba-977d-b479c6647dda"
      },
      "cell_type": "code",
      "source": [
        "import random\n",
        "\n",
        "sum=0\n",
        "message = [0]*10\n",
        "\n",
        "for i in range(0,10):\n",
        "    n = random.randint(1,5)\n",
        "    message[i] = \"%d floor: %d person\" %(i+1,n)\n",
        "    print message[i]\n",
        "    sum += n\n",
        "print \"total: %d person\" %sum"
      ],
      "execution_count": 24,
      "outputs": [
        {
          "output_type": "stream",
          "text": [
            "1 floor: 1 person\n",
            "2 floor: 3 person\n",
            "3 floor: 4 person\n",
            "4 floor: 1 person\n",
            "5 floor: 4 person\n",
            "6 floor: 2 person\n",
            "7 floor: 2 person\n",
            "8 floor: 2 person\n",
            "9 floor: 4 person\n",
            "10 floor: 2 person\n",
            "total: 25 person\n"
          ],
          "name": "stdout"
        }
      ]
    },
    {
      "metadata": {
        "id": "ItgCQfz-msGS",
        "colab_type": "text"
      },
      "cell_type": "markdown",
      "source": [
        "* **Exercise 21**\n",
        "\n",
        "사용자로부터 자연수를 입력 받아 소수/합성수 여부를 판별하는 프로그램을 작성하시오."
      ]
    },
    {
      "metadata": {
        "id": "zFhekGX3m9Xk",
        "colab_type": "code",
        "colab": {
          "base_uri": "https://localhost:8080/",
          "height": 161
        },
        "outputId": "3a6017d4-fe75-4606-fd72-1930f9f028a2"
      },
      "cell_type": "code",
      "source": [
        "import math\n",
        "\n",
        "temp = True\n",
        "while temp:\n",
        "    number = input(\"insert natural number: \")\n",
        "    if number == 1:\n",
        "        print \"1 is not prime number and composite number\"\n",
        "    elif number < 1:\n",
        "        print \"please insert natural number!!!\"\n",
        "        temp = False\n",
        "    else:\n",
        "        for i in range(2,number+1):\n",
        "            if number%i == 0:\n",
        "                print \"%d is composite number\" %number\n",
        "                break\n",
        "            else:\n",
        "                print \"%d is prime number\" %number\n",
        "                break"
      ],
      "execution_count": 28,
      "outputs": [
        {
          "output_type": "stream",
          "text": [
            "insert natural number: 10\n",
            "10 is composite number\n",
            "insert natural number: 137\n",
            "137 is prime number\n",
            "insert natural number: 1\n",
            "1 is not prime number and composite number\n",
            "insert natural number: 0\n",
            "please insert natural number!!!\n"
          ],
          "name": "stdout"
        }
      ]
    },
    {
      "metadata": {
        "id": "GCJxhr5Zo7F8",
        "colab_type": "text"
      },
      "cell_type": "markdown",
      "source": [
        "* **Exercise 22**\n",
        "\n",
        "dictionary sorting"
      ]
    },
    {
      "metadata": {
        "id": "lfQk8NxDpFrM",
        "colab_type": "code",
        "colab": {
          "base_uri": "https://localhost:8080/",
          "height": 53
        },
        "outputId": "b0d9b5e1-524d-4f64-b152-454d06512971"
      },
      "cell_type": "code",
      "source": [
        "d = {'one':1,'two':2,'three':3,'four':4,'five':5}\n",
        "\n",
        "#key\n",
        "L = d.items()\n",
        "L.sort()\n",
        "print L\n",
        "\n",
        "#value\n",
        "L.sort(key = lambda item:item[1])\n",
        "print L"
      ],
      "execution_count": 29,
      "outputs": [
        {
          "output_type": "stream",
          "text": [
            "[('five', 5), ('four', 4), ('one', 1), ('three', 3), ('two', 2)]\n",
            "[('one', 1), ('two', 2), ('three', 3), ('four', 4), ('five', 5)]\n"
          ],
          "name": "stdout"
        }
      ]
    },
    {
      "metadata": {
        "id": "ZRumpIV4qKMq",
        "colab_type": "text"
      },
      "cell_type": "markdown",
      "source": [
        "* **Exercise 23**\n",
        "\n",
        "사용자로부터 입력받은 어떤 문자열을 사전을 이용하여 주어진 문자열의 각 단어를 중복되지 않게 한번씩만 출력하는 프로그램을 작성하시오."
      ]
    },
    {
      "metadata": {
        "id": "kGp7XsiGqTgX",
        "colab_type": "code",
        "colab": {
          "base_uri": "https://localhost:8080/",
          "height": 71
        },
        "outputId": "334c1689-6b86-4815-c04e-a1c26076689c"
      },
      "cell_type": "code",
      "source": [
        "s = raw_input('insert string: ')\n",
        "\n",
        "s = s.split()\n",
        "dic = {}\n",
        "\n",
        "for i in s:\n",
        "        dic[i] = 0\n",
        "        \n",
        "print dic\n",
        "print dic.keys()"
      ],
      "execution_count": 30,
      "outputs": [
        {
          "output_type": "stream",
          "text": [
            "insert string: one two one two three four\n",
            "{'four': 0, 'three': 0, 'two': 0, 'one': 0}\n",
            "['four', 'three', 'two', 'one']\n"
          ],
          "name": "stdout"
        }
      ]
    },
    {
      "metadata": {
        "id": "0Vy_VVfKq1f9",
        "colab_type": "text"
      },
      "cell_type": "markdown",
      "source": [
        "* **Exercise 24**\n",
        "\n",
        "주어진 문자열에서 단어를 순서대로 출력하시오. [단, 중복되는 단어는 한번만 출력되어야 하고 단어가 문자열에서 발생한 횟수도 함께 출력한다]"
      ]
    },
    {
      "metadata": {
        "id": "KGOcAZuirLx8",
        "colab_type": "code",
        "colab": {
          "base_uri": "https://localhost:8080/",
          "height": 613
        },
        "outputId": "d551e975-4298-43e3-945e-f20f610d4bf0"
      },
      "cell_type": "code",
      "source": [
        "s = '''we propose to start by making it possible to teach programming in python\n",
        "an existing scripting language and to focus on creating a new development\n",
        "environment and teaching materials for it'''\n",
        "\n",
        "list = s.split()\n",
        "\n",
        "dic = {}\n",
        "\n",
        "for i in list:\n",
        "    b = list.count(i)\n",
        "    print b, i\n",
        "\n",
        "    dic[i]=b\n",
        "\n",
        "print dic"
      ],
      "execution_count": 31,
      "outputs": [
        {
          "output_type": "stream",
          "text": [
            "1 we\n",
            "1 propose\n",
            "3 to\n",
            "1 start\n",
            "1 by\n",
            "1 making\n",
            "2 it\n",
            "1 possible\n",
            "3 to\n",
            "1 teach\n",
            "1 programming\n",
            "1 in\n",
            "1 python\n",
            "1 an\n",
            "1 existing\n",
            "1 scripting\n",
            "1 language\n",
            "2 and\n",
            "3 to\n",
            "1 focus\n",
            "1 on\n",
            "1 creating\n",
            "1 a\n",
            "1 new\n",
            "1 development\n",
            "1 environment\n",
            "2 and\n",
            "1 teaching\n",
            "1 materials\n",
            "1 for\n",
            "2 it\n",
            "{'and': 2, 'it': 2, 'existing': 1, 'in': 1, 'for': 1, 'start': 1, 'environment': 1, 'to': 3, 'new': 1, 'development': 1, 'we': 1, 'creating': 1, 'python': 1, 'propose': 1, 'possible': 1, 'focus': 1, 'teaching': 1, 'teach': 1, 'an': 1, 'by': 1, 'a': 1, 'on': 1, 'language': 1, 'programming': 1, 'materials': 1, 'making': 1, 'scripting': 1}\n"
          ],
          "name": "stdout"
        }
      ]
    },
    {
      "metadata": {
        "id": "mKqKnde1uFCU",
        "colab_type": "code",
        "colab": {
          "resources": {
            "http://localhost:8080/nbextensions/google.colab/files.js": {
              "data": "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",
              "ok": true,
              "headers": [
                [
                  "content-type",
                  "application/javascript"
                ]
              ],
              "status": 200,
              "status_text": ""
            }
          },
          "base_uri": "https://localhost:8080/",
          "height": 113
        },
        "outputId": "f0554c07-054c-4cb0-b078-047cd7aae208"
      },
      "cell_type": "code",
      "source": [
        "from google.colab import files\n",
        "files.upload()"
      ],
      "execution_count": 42,
      "outputs": [
        {
          "output_type": "display_data",
          "data": {
            "text/plain": [
              "<IPython.core.display.HTML object>"
            ],
            "text/html": [
              "\n",
              "     <input type=\"file\" id=\"files-5a361aca-9416-403f-9a25-e7f2acc3a566\" name=\"files[]\" multiple disabled />\n",
              "     <output id=\"result-5a361aca-9416-403f-9a25-e7f2acc3a566\">\n",
              "      Upload widget is only available when the cell has been executed in the\n",
              "      current browser session. Please rerun this cell to enable.\n",
              "      </output>\n",
              "      <script src=\"/nbextensions/google.colab/files.js\"></script> "
            ]
          },
          "metadata": {
            "tags": []
          }
        },
        {
          "output_type": "stream",
          "text": [
            "Saving test1.txt to test1.txt\n"
          ],
          "name": "stdout"
        },
        {
          "output_type": "execute_result",
          "data": {
            "text/plain": [
              "{u'test1.txt': 'its power python developers typically report\\r\\nthey are able to develop applications in a half\\r\\nto a tenth the amount of time it takes them to do\\r\\nthe same work insuch language as c\\r\\na b c d\\r\\n'}"
            ]
          },
          "metadata": {
            "tags": []
          },
          "execution_count": 42
        }
      ]
    },
    {
      "metadata": {
        "id": "ZoLbn6_Lu8J5",
        "colab_type": "code",
        "colab": {
          "base_uri": "https://localhost:8080/",
          "height": 143
        },
        "outputId": "05e9cca9-7d1e-4e26-f3c2-d55ca5214599"
      },
      "cell_type": "code",
      "source": [
        "!ls -al"
      ],
      "execution_count": 43,
      "outputs": [
        {
          "output_type": "stream",
          "text": [
            "total 20\n",
            "drwxr-xr-x 1 root root 4096 Dec  1 07:45 .\n",
            "drwxr-xr-x 1 root root 4096 Dec  1 05:43 ..\n",
            "drwxr-xr-x 1 root root 4096 Nov 29 18:21 .config\n",
            "-rw-r--r-- 1 root root    0 Dec  1 07:38 number.txt\n",
            "drwxr-xr-x 2 root root 4096 Nov 29 18:21 sample_data\n",
            "-rw-r--r-- 1 root root  191 Dec  1 07:45 test1.txt\n"
          ],
          "name": "stdout"
        }
      ]
    },
    {
      "metadata": {
        "id": "MBKDBPSssCQP",
        "colab_type": "text"
      },
      "cell_type": "markdown",
      "source": [
        "* **Exercise 25**\n",
        "\n",
        "test1.txt.파일 내용을 한꺼번에 읽고, dictionary 하나를 생성하여 key에는 단어, value에는 이 단어의 빈도 수를 저장하시오."
      ]
    },
    {
      "metadata": {
        "id": "Pjmeuqv6sHri",
        "colab_type": "code",
        "colab": {
          "base_uri": "https://localhost:8080/",
          "height": 163
        },
        "outputId": "1c431d3d-6c99-40eb-b34c-313b3e676351"
      },
      "cell_type": "code",
      "source": [
        "f = open('test1.txt','r')\n",
        "\n",
        "text = f.read()\n",
        "print text\n",
        "words = text.split()\n",
        "\n",
        "\n",
        "dic = {}\n",
        "\n",
        "\n",
        "for word in words:\n",
        "    dic[word] = dic.get(word,0) + 1\n",
        "\n",
        "\n",
        "print dic"
      ],
      "execution_count": 47,
      "outputs": [
        {
          "output_type": "stream",
          "text": [
            "its power python developers typically report\r\n",
            "they are able to develop applications in a half\r\n",
            "to a tenth the amount of time it takes them to do\r\n",
            "the same work insuch language as c\r\n",
            "a b c d\r\n",
            "\n",
            "{'it': 1, 'as': 1, 'are': 1, 'in': 1, 'tenth': 1, 'its': 1, 'insuch': 1, 'develop': 1, 'takes': 1, 'able': 1, 'same': 1, 'to': 3, 'developers': 1, 'do': 1, 'them': 1, 'power': 1, 'python': 1, 'applications': 1, 'they': 1, 'half': 1, 'report': 1, 'a': 3, 'c': 2, 'b': 1, 'd': 1, 'language': 1, 'of': 1, 'work': 1, 'amount': 1, 'time': 1, 'the': 2, 'typically': 1}\n"
          ],
          "name": "stdout"
        }
      ]
    },
    {
      "metadata": {
        "id": "21vBvAbUwT4V",
        "colab_type": "text"
      },
      "cell_type": "markdown",
      "source": [
        "* **Exercise 26**\n",
        "\n",
        "1. Make a function that calculate a square of a argument.\n",
        "\n",
        "2. Make a function that calculate a circumference of a circle with using two arguments, radius and pie.\n",
        "\n",
        "3. Make a function that calculate a area of a circle with using two arguments, radius and pie"
      ]
    },
    {
      "metadata": {
        "id": "C6G-P94ExF19",
        "colab_type": "code",
        "colab": {
          "base_uri": "https://localhost:8080/",
          "height": 71
        },
        "outputId": "13112c1d-bccb-4f2d-e02b-ceecc455db74"
      },
      "cell_type": "code",
      "source": [
        "import math\n",
        "\n",
        "def fun_sqr(num):\n",
        "    return num**2\n",
        "\n",
        "def fun_circum(radius):\n",
        "    return 2*math.pi*radius\n",
        "\n",
        "def fun_area(radius):\n",
        "    return math.pi*radius*radius\n",
        "\n",
        "num = input('input number: ')\n",
        "\n",
        "square_num = fun_sqr(num)\n",
        "cir = fun_circum(num)\n",
        "area = fun_area(num)\n",
        "\n",
        "print 'square num: %d' %square_num\n",
        "print 'circum: %f area: %f' % (cir, area)"
      ],
      "execution_count": 48,
      "outputs": [
        {
          "output_type": "stream",
          "text": [
            "input number: 2\n",
            "square num: 4\n",
            "circum: 12.566371 area: 12.566371\n"
          ],
          "name": "stdout"
        }
      ]
    },
    {
      "metadata": {
        "id": "XCwHOLSOxUcr",
        "colab_type": "text"
      },
      "cell_type": "markdown",
      "source": [
        "* **Exercise 27**\n",
        "\n",
        "Write a function to meet this specification.\n",
        "- squreEach modifies the list by equaring each entry"
      ]
    },
    {
      "metadata": {
        "id": "VgtngIdTxk57",
        "colab_type": "code",
        "colab": {
          "base_uri": "https://localhost:8080/",
          "height": 73
        },
        "outputId": "df8a7083-1798-440c-f858-fdf4fba8fe5e"
      },
      "cell_type": "code",
      "source": [
        "def squareEach(list):\n",
        "    square_list = [(x,y,int(x)*int(y)) for x in list for y in list]\n",
        "    return square_list\n",
        "\n",
        "l = raw_input('input number list: ')\n",
        "li = l.split()\n",
        "\n",
        "print squareEach(li)"
      ],
      "execution_count": 49,
      "outputs": [
        {
          "output_type": "stream",
          "text": [
            "input number list: 1 2 3 4 5\n",
            "[('1', '1', 1), ('1', '2', 2), ('1', '3', 3), ('1', '4', 4), ('1', '5', 5), ('2', '1', 2), ('2', '2', 4), ('2', '3', 6), ('2', '4', 8), ('2', '5', 10), ('3', '1', 3), ('3', '2', 6), ('3', '3', 9), ('3', '4', 12), ('3', '5', 15), ('4', '1', 4), ('4', '2', 8), ('4', '3', 12), ('4', '4', 16), ('4', '5', 20), ('5', '1', 5), ('5', '2', 10), ('5', '3', 15), ('5', '4', 20), ('5', '5', 25)]\n"
          ],
          "name": "stdout"
        }
      ]
    },
    {
      "metadata": {
        "id": "piawtr2Dx27_",
        "colab_type": "text"
      },
      "cell_type": "markdown",
      "source": [
        "* **Exercise 28**\n",
        "\n",
        "Write a program which have menu to calculate two input. In the menu, You can choose operations such as addition, subtraction, multiplication, division and quit"
      ]
    },
    {
      "metadata": {
        "id": "rQxmjUWqyLoV",
        "colab_type": "code",
        "colab": {
          "base_uri": "https://localhost:8080/",
          "height": 305
        },
        "outputId": "b9b66f30-b599-41a9-9c37-fba99b0357a1"
      },
      "cell_type": "code",
      "source": [
        "def select_menu():\n",
        "    print '0. Add'\n",
        "    print '1. Sub'\n",
        "    print '2. Mul'\n",
        "    print '3. Div'\n",
        "    print '4. Quit'\n",
        "    \n",
        "    return 0\n",
        "\n",
        "def Add(num1,num2):\n",
        "    return num1+num2\n",
        "\n",
        "def Sub(num1,num2):\n",
        "    return num1-num2\n",
        "\n",
        "def Mul(num1,num2):\n",
        "    return num1*num2\n",
        "\n",
        "def Div(num1,num2):\n",
        "    return num1/float(num2)\n",
        "\n",
        "\n",
        "print '---Select menu---'\n",
        "select_menu()\n",
        "\n",
        "while True:\n",
        "    select_num = input('Select menu: ')\n",
        "    if select_num == 4:\n",
        "        print 'Bye bye~ :)'\n",
        "        break\n",
        "    \n",
        "    first = input('First Operand: ')\n",
        "    second = input('Second operand: ')\n",
        "\n",
        "    if select_num == 0:\n",
        "        result = Add(first,second)\n",
        "        print \"Result = %d\" %result\n",
        "    \n",
        "    elif select_num == 1:\n",
        "        result = Sub(first,second)\n",
        "        print \"Result = %d\" %result\n",
        "    \n",
        "    elif select_num == 2:\n",
        "        result = Mul(first,second)\n",
        "        print \"Result = %d\" %result\n",
        "    \n",
        "    elif select_num == 3:\n",
        "        result = Div(first,second)\n",
        "        print \"Result = %5.2f\" %result"
      ],
      "execution_count": 50,
      "outputs": [
        {
          "output_type": "stream",
          "text": [
            "---Select menu---\n",
            "0. Add\n",
            "1. Sub\n",
            "2. Mul\n",
            "3. Div\n",
            "4. Quit\n",
            "Select menu: 0\n",
            "First Operand: 2\n",
            "Second operand: 5\n",
            "Result = 7\n",
            "Select menu: 3\n",
            "First Operand: 10\n",
            "Second operand: 20\n",
            "Result =  0.50\n",
            "Select menu: 4\n",
            "Bye bye~ :)\n"
          ],
          "name": "stdout"
        }
      ]
    },
    {
      "metadata": {
        "id": "boabZwuwycz3",
        "colab_type": "text"
      },
      "cell_type": "markdown",
      "source": [
        "* **Exercise 29**\n",
        "\n",
        "Dictionary에 고객 id와 pw를 저장한 후, id와 pw를 검사하는 프로그램을 구현하시오."
      ]
    },
    {
      "metadata": {
        "id": "kZzmqzqMyww3",
        "colab_type": "code",
        "colab": {
          "base_uri": "https://localhost:8080/",
          "height": 161
        },
        "outputId": "9c3a96af-cde2-4b26-8976-e83992de8f88"
      },
      "cell_type": "code",
      "source": [
        "dic = {'kim':'12345','lee':'abcde','choi':'abc12'}\n",
        "\n",
        "while True:\n",
        "    print 'please enter your id and password'\n",
        "    id = raw_input('id: ')\n",
        "    if id in dic:   \n",
        "        pw = raw_input('password: ')\n",
        "        if pw == dic[id]:\n",
        "            print 'welcome! %s coustomer' %id\n",
        "            break\n",
        "        else:\n",
        "            print 'not correct password'\n",
        "            continue\n",
        "    else:\n",
        "         print 'not correct id, no coustomer'\n",
        "         continue"
      ],
      "execution_count": 52,
      "outputs": [
        {
          "output_type": "stream",
          "text": [
            "please enter your id and password\n",
            "id: kim\n",
            "password: 1234\n",
            "not correct password\n",
            "please enter your id and password\n",
            "id: kim\n",
            "password: 12345\n",
            "welcome! kim coustomer\n"
          ],
          "name": "stdout"
        }
      ]
    },
    {
      "metadata": {
        "id": "pzorWY1tzDuj",
        "colab_type": "text"
      },
      "cell_type": "markdown",
      "source": [
        "* **Exercise 30**\n",
        "\n",
        "이름과 전화번호를 저장하는 전화번호부를 만드는 프로그램을 작성하시오. [사전을 사용 key:이름, value:전화번호]"
      ]
    },
    {
      "metadata": {
        "id": "cW7uI_zQzSmt",
        "colab_type": "code",
        "colab": {
          "base_uri": "https://localhost:8080/",
          "height": 485
        },
        "outputId": "8fddc2af-4f20-46c8-e60b-bfd6df24bbd6"
      },
      "cell_type": "code",
      "source": [
        "print '---program---'\n",
        "\n",
        "def select_menu():\n",
        "    print '1. print'\n",
        "    print '2. add'\n",
        "    print '3. delete'\n",
        "    print '4. search'\n",
        "    print '5. quit'\n",
        "    \n",
        "dic = {}\n",
        "\n",
        "def show():\n",
        "    length = len(dic)\n",
        "    print 'total number: %d ' %length, dic\n",
        "    \n",
        "def add(name,number):\n",
        "    dic[name]=number\n",
        "    \n",
        "def delete(name):\n",
        "    del dic[name]\n",
        "\n",
        "def search(name):\n",
        "    if name in dic:\n",
        "        print dic[name]\n",
        "    else:\n",
        "        print 'Not on the list'\n",
        "    \n",
        "    \n",
        "select_menu()\n",
        "\n",
        "\n",
        "while True:\n",
        "    num = input('insert menu number: (1-5) ')\n",
        "    if num == 5:\n",
        "        break\n",
        "    elif num == 1:\n",
        "        show()\n",
        "        continue\n",
        "    elif num == 2:\n",
        "        print 'add'\n",
        "        name = raw_input('name: ')\n",
        "        number = input('number: ')\n",
        "        add(name,number)\n",
        "        continue\n",
        "    elif num == 3:\n",
        "        print 'delete'\n",
        "        name = raw_input('name: ')\n",
        "        delete(name)\n",
        "        continue\n",
        "    elif num == 4:\n",
        "        print 'search'\n",
        "        name = raw_input('name: ')\n",
        "        search(name)\n",
        "        continue"
      ],
      "execution_count": 53,
      "outputs": [
        {
          "output_type": "stream",
          "text": [
            "---program---\n",
            "1. print\n",
            "2. add\n",
            "3. delete\n",
            "4. search\n",
            "5. quit\n",
            "insert menu number: (1-5) 2\n",
            "add\n",
            "name: hyein\n",
            "number: 12345\n",
            "insert menu number: (1-5) 2\n",
            "add\n",
            "name: python\n",
            "number: 54321\n",
            "insert menu number: (1-5) 1\n",
            "total number: 2  {'python': 54321, 'hyein': 12345}\n",
            "insert menu number: (1-5) 4\n",
            "search\n",
            "name: python\n",
            "54321\n",
            "insert menu number: (1-5) 3\n",
            "delete\n",
            "name: python\n",
            "insert menu number: (1-5) 1\n",
            "total number: 1  {'hyein': 12345}\n",
            "insert menu number: (1-5) 5\n"
          ],
          "name": "stdout"
        }
      ]
    },
    {
      "metadata": {
        "id": "2X_iP1ThztBx",
        "colab_type": "text"
      },
      "cell_type": "markdown",
      "source": [
        "* **Exercise 31**\n",
        "\n",
        "문자열의 'a','b','c','d' 각 문자에 대해서 'w','x','y','z'으로, 또한  'w','x','y','z'는 'a','b','c','d'로 변환하는 프로그램을 작성하라."
      ]
    },
    {
      "metadata": {
        "id": "XB4ZR9ZDz_KX",
        "colab_type": "code",
        "colab": {
          "base_uri": "https://localhost:8080/",
          "height": 53
        },
        "outputId": "0da13dfd-5a6c-4a74-dd39-508b4f18da07"
      },
      "cell_type": "code",
      "source": [
        "replace = {'a':'w','b':'x','c':'y','d':'z'}\n",
        "replace2 = {'w':'a','x':'b','y':'c','z':'d'}\n",
        "\n",
        "swap=''\n",
        "\n",
        "s = input('input string: ')\n",
        "\n",
        "for element in s:\n",
        "    if element in replace:\n",
        "        swap += replace[element]\n",
        "    elif element in replace2:\n",
        "        swap += replace2[element]\n",
        "    else:\n",
        "        swap += element\n",
        "        \n",
        "print swap"
      ],
      "execution_count": 56,
      "outputs": [
        {
          "output_type": "stream",
          "text": [
            "input string: 'cabsz'\n",
            "ywxsd\n"
          ],
          "name": "stdout"
        }
      ]
    },
    {
      "metadata": {
        "id": "5EPdpmkR01qo",
        "colab_type": "text"
      },
      "cell_type": "markdown",
      "source": [
        "* **Exercise 32**\n",
        "\n",
        "함수 total을 정의하시오. 이 함수는 임의의 개수의 인수를 받아서 그 합을 계산한다."
      ]
    },
    {
      "metadata": {
        "id": "3L0Dvkf408vA",
        "colab_type": "code",
        "colab": {
          "base_uri": "https://localhost:8080/",
          "height": 71
        },
        "outputId": "285ff8e9-4668-4706-f4f9-7f7191047e2d"
      },
      "cell_type": "code",
      "source": [
        "#version1\n",
        "def sum_all(*args):\n",
        "    result = 0\n",
        "    for i in args:\n",
        "        result += i\n",
        "    return result\n",
        " \n",
        "print 'sum_all(1, 2, 3, 4, 5) total argument sum is ',sum_all(1, 2, 3, 4, 5)\n",
        "print 'sum_all(1, 2, 3, 4, 5, 6, 7, 8, 9, 10, 11) total argument sum is ',sum_all(1, 2, 3, 4, 5, 6, 7, 8, 9, 10)\n",
        "print 'sum_all(5, 6) total argument sum is ',sum_all(5,6)"
      ],
      "execution_count": 57,
      "outputs": [
        {
          "output_type": "stream",
          "text": [
            "sum_all(1, 2, 3, 4, 5) total argument sum is  15\n",
            "sum_all(1, 2, 3, 4, 5, 6, 7, 8, 9, 10, 11) total argument sum is  55\n",
            "sum_all(5, 6) total argument sum is  11\n"
          ],
          "name": "stdout"
        }
      ]
    },
    {
      "metadata": {
        "id": "jxPxm4xd1EuX",
        "colab_type": "code",
        "colab": {
          "base_uri": "https://localhost:8080/",
          "height": 53
        },
        "outputId": "b4b95b60-7c34-47e3-e628-f28c0e1a0f2b"
      },
      "cell_type": "code",
      "source": [
        "#version2\n",
        "def sum_all2(*args):\n",
        "    return reduce(lambda x, y: x+y, args)\n",
        "\n",
        "print sum_all2(1,2)\n",
        "print sum_all(1,5,7,2,3)"
      ],
      "execution_count": 58,
      "outputs": [
        {
          "output_type": "stream",
          "text": [
            "3\n",
            "18\n"
          ],
          "name": "stdout"
        }
      ]
    },
    {
      "metadata": {
        "id": "oTf-ZZhs1Nov",
        "colab_type": "text"
      },
      "cell_type": "markdown",
      "source": [
        "* **Exercise 33**\n",
        "\n",
        "lambda function"
      ]
    },
    {
      "metadata": {
        "id": "XerHXQaE1T9C",
        "colab_type": "code",
        "colab": {
          "base_uri": "https://localhost:8080/",
          "height": 179
        },
        "outputId": "992e0e00-cf2a-4898-9758-080d7f17efe4"
      },
      "cell_type": "code",
      "source": [
        "sum = lambda x,y:x+y\n",
        "\n",
        "num1 = input('enter number1: ')\n",
        "num2 = input('enter number2: ')\n",
        "\n",
        "print '%d + %d = ' % (num1, num2), sum(num1,num2)\n",
        "  \n",
        "square = lambda x:x*x\n",
        "num = input('enter number(square): ')\n",
        "print 'square number: ', square(num)\n",
        "\n",
        "last = lambda x:x[-1]\n",
        "s = raw_input('enter string: ')\n",
        "print 'last string: ', last(s)\n",
        "\n",
        "multiple = lambda x:x%5==0\n",
        "num = input('enter number: ')\n",
        "print 'multiple of 5: ', multiple(num)"
      ],
      "execution_count": 59,
      "outputs": [
        {
          "output_type": "stream",
          "text": [
            "enter number1: 5\n",
            "enter number2: 10\n",
            "5 + 10 =  15\n",
            "enter number(square): 3\n",
            "square number:  9\n",
            "enter string: python programming is funny\n",
            "last string:  y\n",
            "enter number: 4\n",
            "multiple of 5:  False\n"
          ],
          "name": "stdout"
        }
      ]
    },
    {
      "metadata": {
        "id": "DZNQrfLA1uwp",
        "colab_type": "text"
      },
      "cell_type": "markdown",
      "source": [
        "* **Exercise 34**\n",
        "\n",
        "함수적 프로그래밍"
      ]
    },
    {
      "metadata": {
        "id": "k93L4cvj1-OF",
        "colab_type": "code",
        "colab": {
          "base_uri": "https://localhost:8080/",
          "height": 53
        },
        "outputId": "c480c684-1605-4467-c5ad-64dc10012947"
      },
      "cell_type": "code",
      "source": [
        "X=[1,2,3,4,5]\n",
        "\n",
        "Y = map(lambda x:x*x,X)\n",
        "print Y\n",
        "\n",
        "S=['kim','lee','choi']\n",
        "\n",
        "Y = map(lambda x:x[-1],S)\n",
        "print Y"
      ],
      "execution_count": 60,
      "outputs": [
        {
          "output_type": "stream",
          "text": [
            "[1, 4, 9, 16, 25]\n",
            "['m', 'e', 'i']\n"
          ],
          "name": "stdout"
        }
      ]
    },
    {
      "metadata": {
        "id": "d_SOfrEc2MZt",
        "colab_type": "code",
        "colab": {
          "base_uri": "https://localhost:8080/",
          "height": 53
        },
        "outputId": "fd9d6616-d2f7-4ff6-f4b2-b43105eddeb0"
      },
      "cell_type": "code",
      "source": [
        "X=[1,2,3,4,5,6,7,8,9,10]\n",
        "\n",
        "Y=filter(lambda x:x%5==0,X)\n",
        "print Y\n",
        "\n",
        "Z=filter(lambda x:x%5==0 or x%7==0,X)\n",
        "print Z"
      ],
      "execution_count": 61,
      "outputs": [
        {
          "output_type": "stream",
          "text": [
            "[5, 10]\n",
            "[5, 7, 10]\n"
          ],
          "name": "stdout"
        }
      ]
    },
    {
      "metadata": {
        "id": "c2zIbxiE2dVJ",
        "colab_type": "code",
        "colab": {
          "base_uri": "https://localhost:8080/",
          "height": 53
        },
        "outputId": "ab240d02-56ee-4c8f-8942-77959b4ae8ba"
      },
      "cell_type": "code",
      "source": [
        "img = ['a.jpg','a_thumb.jpg','b.jpg','b_thumb.jpg']\n",
        "\n",
        "#version1\n",
        "X = filter(lambda x:'thumb' in x,img)\n",
        "print X\n",
        "\n",
        "#version2\n",
        "Y = filter(lambda x:x.endswith('thumb.jpg'),img)\n",
        "print Y\n"
      ],
      "execution_count": 62,
      "outputs": [
        {
          "output_type": "stream",
          "text": [
            "['a_thumb.jpg', 'b_thumb.jpg']\n",
            "['a_thumb.jpg', 'b_thumb.jpg']\n"
          ],
          "name": "stdout"
        }
      ]
    },
    {
      "metadata": {
        "id": "Ny7W7zmO2zMg",
        "colab_type": "code",
        "colab": {
          "base_uri": "https://localhost:8080/",
          "height": 71
        },
        "outputId": "b20b57e7-8da1-4cb0-8e01-a2db61a2f25b"
      },
      "cell_type": "code",
      "source": [
        "def makeAcro(s):\n",
        "    list = s.split()\n",
        "    print list\n",
        "    Y = map(lambda x:x[0],list)\n",
        "    print Y\n",
        "    \n",
        "    join_acro = ''.join(Y)\n",
        "    print join_acro\n",
        "    \n",
        "\n",
        "makeAcro('as soon as possible')"
      ],
      "execution_count": 63,
      "outputs": [
        {
          "output_type": "stream",
          "text": [
            "['as', 'soon', 'as', 'possible']\n",
            "['a', 's', 'a', 'p']\n",
            "asap\n"
          ],
          "name": "stdout"
        }
      ]
    },
    {
      "metadata": {
        "id": "B8G-Ak2G3DKF",
        "colab_type": "code",
        "colab": {
          "base_uri": "https://localhost:8080/",
          "height": 35
        },
        "outputId": "8f398976-6160-4bf6-97db-c162d14a30db"
      },
      "cell_type": "code",
      "source": [
        "def fact(num):\n",
        "    if num == 1: return 1\n",
        "    return num * fact(num-1)\n",
        "\n",
        "print fact(10)"
      ],
      "execution_count": 64,
      "outputs": [
        {
          "output_type": "stream",
          "text": [
            "3628800\n"
          ],
          "name": "stdout"
        }
      ]
    },
    {
      "metadata": {
        "id": "6mNTbQxt3GPk",
        "colab_type": "code",
        "colab": {
          "base_uri": "https://localhost:8080/",
          "height": 73
        },
        "outputId": "6b707ea5-bd65-42ba-ce2e-a12b322c77dd"
      },
      "cell_type": "code",
      "source": [
        "fib = []\n",
        "\n",
        "def fibonacci(n):\n",
        "    count=0\n",
        "    a, b = 0, 1\n",
        "    for i in range(n):\n",
        "        a, b = b, a + b\n",
        "        fib.append(b)\n",
        "\n",
        "        if b<1000 and b%2 == 0:\n",
        "            count += b\n",
        "            \n",
        "    print count\n",
        "    return fib\n",
        "  \n",
        "\n",
        "print fibonacci(30)"
      ],
      "execution_count": 65,
      "outputs": [
        {
          "output_type": "stream",
          "text": [
            "798\n",
            "[1, 2, 3, 5, 8, 13, 21, 34, 55, 89, 144, 233, 377, 610, 987, 1597, 2584, 4181, 6765, 10946, 17711, 28657, 46368, 75025, 121393, 196418, 317811, 514229, 832040, 1346269]\n"
          ],
          "name": "stdout"
        }
      ]
    }
  ]
}