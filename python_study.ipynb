{
  "nbformat": 4,
  "nbformat_minor": 0,
  "metadata": {
    "colab": {
      "name": "python_study.ipynb",
      "version": "0.3.2",
      "provenance": [],
      "collapsed_sections": [],
      "include_colab_link": true
    },
    "kernelspec": {
      "name": "python2",
      "display_name": "Python 2"
    }
  },
  "cells": [
    {
      "cell_type": "markdown",
      "metadata": {
        "id": "view-in-github",
        "colab_type": "text"
      },
      "source": [
        "<a href=\"https://colab.research.google.com/github/Hyenni/practice_python/blob/master/python_study.ipynb\" target=\"_parent\"><img src=\"https://colab.research.google.com/assets/colab-badge.svg\" alt=\"Open In Colab\"/></a>"
      ]
    },
    {
      "metadata": {
        "id": "-7qTHmECVQyM",
        "colab_type": "text"
      },
      "cell_type": "markdown",
      "source": [
        "* **Exercise 1**\n",
        "\n",
        "사과를 담는데 필요한 바구니의 수를 구하는 프로그램을 작성하시오.\n",
        "(사과의 개수와 바구니에 담을 수 있는 사과의 개수를 입력받고, 필요한 바구니의 개수를 출력하도록 한다)\n",
        "\n"
      ]
    },
    {
      "metadata": {
        "id": "dWP7jOfmVszi",
        "colab_type": "code",
        "colab": {
          "base_uri": "https://localhost:8080/",
          "height": 71
        },
        "outputId": "373e40ab-b442-4c72-951a-1fac7940d44e"
      },
      "cell_type": "code",
      "source": [
        "number_apple = input(\"the number of apples: \")\n",
        "basket = input(\"the size of basket: \")\n",
        "\n",
        "if (number_apple%basket) > 0:\n",
        "    needs = number_apple/basket + 1\n",
        "else:\n",
        "    needs = number_apple/basket\n",
        "\n",
        "\n",
        "print \"Number of needed basket: \", needs"
      ],
      "execution_count": 1,
      "outputs": [
        {
          "output_type": "stream",
          "text": [
            "the number of apples: 123\n",
            "the size of basket: 10\n",
            "Number of needed basket:  13\n"
          ],
          "name": "stdout"
        }
      ]
    },
    {
      "metadata": {
        "id": "oY3xVX8jWBg6",
        "colab_type": "text"
      },
      "cell_type": "markdown",
      "source": [
        "* **Exercise 2**\n",
        "\n",
        "변수의 num 값 중에 백의 자리 이하를 버리는 프로그램을 작성하시오."
      ]
    },
    {
      "metadata": {
        "id": "R5cXfx36Wdc6",
        "colab_type": "code",
        "colab": {
          "base_uri": "https://localhost:8080/",
          "height": 53
        },
        "outputId": "c447a78e-0419-4e8e-f503-e2254b4fba59"
      },
      "cell_type": "code",
      "source": [
        "num = input(\"Please enter a number: \")\n",
        "\n",
        "remainder = num%100\n",
        "\n",
        "final = num - remainder\n",
        "\n",
        "print final"
      ],
      "execution_count": 2,
      "outputs": [
        {
          "output_type": "stream",
          "text": [
            "Please enter a number: 456\n",
            "400\n"
          ],
          "name": "stdout"
        }
      ]
    },
    {
      "metadata": {
        "id": "BoJZGMztWm1i",
        "colab_type": "text"
      },
      "cell_type": "markdown",
      "source": [
        "* **Exercise 3**\n",
        "\n",
        "사용자로부터 4자리 숫자를 입력받아, 각 자리 수의 합을 구해 출력하는 프로그램을 구현하시오."
      ]
    },
    {
      "metadata": {
        "id": "LcWwJ55BWw--",
        "colab_type": "code",
        "colab": {
          "base_uri": "https://localhost:8080/",
          "height": 53
        },
        "outputId": "75765fe3-5038-42cc-e75a-8acea76fac5d"
      },
      "cell_type": "code",
      "source": [
        "#version_1\n",
        "\n",
        "num = input(\"input 4 digits: \")\n",
        "\n",
        "i=0\n",
        "sum=0\n",
        "\n",
        "while i<4:\n",
        "    sum = sum + num%10\n",
        "    num = num/10\n",
        "    i = i+1\n",
        "\n",
        "\n",
        "print sum"
      ],
      "execution_count": 3,
      "outputs": [
        {
          "output_type": "stream",
          "text": [
            "input 4 digits: 1234\n",
            "10\n"
          ],
          "name": "stdout"
        }
      ]
    },
    {
      "metadata": {
        "id": "aUzXUZ2CW5_6",
        "colab_type": "code",
        "colab": {
          "base_uri": "https://localhost:8080/",
          "height": 53
        },
        "outputId": "710e5431-9631-4b31-b2df-d06804e8e458"
      },
      "cell_type": "code",
      "source": [
        "#version2\n",
        "number = input(\"input 4 digits: \")\n",
        "\n",
        "num1 = number / 1000;\n",
        "number = number - (num1*1000);\n",
        "\n",
        "\n",
        "num2 = number / 100;\n",
        "number = number - (num2*100);\n",
        "\n",
        "\n",
        "num3 = number / 10;\n",
        "number = number - (num3*10);\n",
        "\n",
        "\n",
        "num4 = number / 1;\n",
        "\n",
        "\n",
        "print(num1 + num2 + num3 +num4)"
      ],
      "execution_count": 4,
      "outputs": [
        {
          "output_type": "stream",
          "text": [
            "input 4 digits: 9145\n",
            "19\n"
          ],
          "name": "stdout"
        }
      ]
    },
    {
      "metadata": {
        "id": "cv1MFysdW_BK",
        "colab_type": "text"
      },
      "cell_type": "markdown",
      "source": [
        "* **Exercise 4**\n",
        "\n",
        "사용자로부터 입력받은 문자열의 길이 (문자의 개수)를 출력하는 프로그램을 작성하시오. 또한 자료형은 무엇인지 출력하시오."
      ]
    },
    {
      "metadata": {
        "id": "adrrLYCYXIwE",
        "colab_type": "code",
        "colab": {
          "base_uri": "https://localhost:8080/",
          "height": 71
        },
        "outputId": "1e5a2125-c34b-4ed5-d107-5af94a6bd88e"
      },
      "cell_type": "code",
      "source": [
        "string1 = raw_input(\"Please enter a string: \")\n",
        "\n",
        "num = len(string1)\n",
        "typ = type(string1)\n",
        "\n",
        "print \"Number of characters: %d\" %num\n",
        "print \"Data type: %s\" %typ"
      ],
      "execution_count": 5,
      "outputs": [
        {
          "output_type": "stream",
          "text": [
            "Please enter a string: hello!python\n",
            "Number of characters: 12\n",
            "Data type: <type 'str'>\n"
          ],
          "name": "stdout"
        }
      ]
    },
    {
      "metadata": {
        "id": "7QMnXt6KZm_D",
        "colab_type": "text"
      },
      "cell_type": "markdown",
      "source": [
        "* **Exercise 5**\n",
        "\n",
        "while문을 이용하여 1부터 100까지 3으로 나눈 나머지가 2인 수들의 합을 계산하라."
      ]
    },
    {
      "metadata": {
        "id": "AE6Cv3JaZ2h0",
        "colab_type": "code",
        "colab": {
          "base_uri": "https://localhost:8080/",
          "height": 35
        },
        "outputId": "c0a3a730-4ba7-47ef-e5f1-30f30ce551f7"
      },
      "cell_type": "code",
      "source": [
        "i = 0\n",
        "sum = 0\n",
        "\n",
        "while i <= 100:\n",
        "    if i%3 == 2:\n",
        "        sum += i\n",
        "        i += 1\n",
        "    else:\n",
        "        i += 1\n",
        "\n",
        "\n",
        "print '3으로 나눈 나머지가 2인 수들의 합: ',sum"
      ],
      "execution_count": 6,
      "outputs": [
        {
          "output_type": "stream",
          "text": [
            "3으로 나눈 나머지가 2인 수들의 합:  1650\n"
          ],
          "name": "stdout"
        }
      ]
    },
    {
      "metadata": {
        "id": "LcbeLQTTaHps",
        "colab_type": "text"
      },
      "cell_type": "markdown",
      "source": [
        "* **Exercise 6**\n",
        "\n",
        "for문을 이용하여 1부터 20까지 4로 나눈 나머지가 0이거나 1인 수들의 곱을 계산하라."
      ]
    },
    {
      "metadata": {
        "id": "A-WObFBmaQBF",
        "colab_type": "code",
        "colab": {
          "base_uri": "https://localhost:8080/",
          "height": 35
        },
        "outputId": "b5d6acf8-7c88-461c-8da6-ee4beca3910f"
      },
      "cell_type": "code",
      "source": [
        "result = 1\n",
        "\n",
        "for i in range(1,21):\n",
        "    if i%4 == 0:\n",
        "        result *= i\n",
        "    elif i%4 == 1:\n",
        "        result *= i\n",
        "    else:\n",
        "        continue\n",
        "\n",
        "print '4로 나눈 나머지가 0이거나 1인 수들의 곱(1~20): ',result"
      ],
      "execution_count": 7,
      "outputs": [
        {
          "output_type": "stream",
          "text": [
            "4로 나눈 나머지가 0이거나 1인 수들의 곱(1~20):  1222041600\n"
          ],
          "name": "stdout"
        }
      ]
    },
    {
      "metadata": {
        "id": "6EEKdV3HaU0c",
        "colab_type": "text"
      },
      "cell_type": "markdown",
      "source": [
        "* **Exercise 7**\n",
        "\n",
        "사용자로부터 문자열과 숫자를 입력받아 숫자만큼 문자열을 반복하는 프로그램을 구현하시오."
      ]
    },
    {
      "metadata": {
        "id": "3xY7PYWiajYc",
        "colab_type": "code",
        "colab": {
          "base_uri": "https://localhost:8080/",
          "height": 71
        },
        "outputId": "77e458a2-34c1-42d2-9567-e3803d05d12c"
      },
      "cell_type": "code",
      "source": [
        "string = raw_input(\"Please enter a string: \")\n",
        "num = input(\"Please enter the number of times to repeat: \")\n",
        "\n",
        "\n",
        "print string * num"
      ],
      "execution_count": 8,
      "outputs": [
        {
          "output_type": "stream",
          "text": [
            "Please enter a string: python\n",
            "Please enter the number of times to repeat: 3\n",
            "pythonpythonpython\n"
          ],
          "name": "stdout"
        }
      ]
    },
    {
      "metadata": {
        "id": "BCt06d0_asH8",
        "colab_type": "text"
      },
      "cell_type": "markdown",
      "source": [
        "* **Exercise 8**\n",
        "\n",
        "사용자로부터 점수를 받아 해당하는 등급(a,b,c,d,e)을 출력하는 프로그램을 구현하시오.\n",
        "[0 입력시 종료]\n"
      ]
    },
    {
      "metadata": {
        "id": "7y7YHP2fa6cv",
        "colab_type": "code",
        "colab": {
          "base_uri": "https://localhost:8080/",
          "height": 125
        },
        "outputId": "359b11c0-e5cc-4c8e-8a0d-36692d6aa587"
      },
      "cell_type": "code",
      "source": [
        "while True:\n",
        "    score = input(\"Please enter your score: \")\n",
        "    if score == 0:\n",
        "        break\n",
        "    elif score >= 90:\n",
        "        print \"A\"\n",
        "    elif score >= 80:\n",
        "        print \"B\"\n",
        "    elif score >= 70:\n",
        "        print \"C\"\n",
        "    elif score >= 60:\n",
        "        print \"D\"\n",
        "    else:\n",
        "        print \"E\"\n",
        "\n",
        "print 'end'"
      ],
      "execution_count": 9,
      "outputs": [
        {
          "output_type": "stream",
          "text": [
            "Please enter your score: 90\n",
            "A\n",
            "Please enter your score: 55\n",
            "E\n",
            "Please enter your score: 0\n",
            "end\n"
          ],
          "name": "stdout"
        }
      ]
    },
    {
      "metadata": {
        "id": "RPY4xnM_dk9N",
        "colab_type": "text"
      },
      "cell_type": "markdown",
      "source": [
        "* **Exercise 9**\n",
        "\n",
        "논리연산자의 이해"
      ]
    },
    {
      "metadata": {
        "id": "pcnZBfeLeNpm",
        "colab_type": "code",
        "colab": {
          "base_uri": "https://localhost:8080/",
          "height": 197
        },
        "outputId": "f17000ef-05e7-45f3-b11e-c19ea73c8f9c"
      },
      "cell_type": "code",
      "source": [
        "print 2 and 1\n",
        "print 1 and 3\n",
        "print bool(1 and 3)\n",
        "print 2 or 1\n",
        "print [[]] or 1\n",
        "print bool([[]] or 1)\n",
        "print [{}] and 1\n",
        "print [{}] and 0\n",
        "print '' or 1\n",
        "print '' and 1"
      ],
      "execution_count": 10,
      "outputs": [
        {
          "output_type": "stream",
          "text": [
            "1\n",
            "3\n",
            "True\n",
            "2\n",
            "[[]]\n",
            "True\n",
            "1\n",
            "0\n",
            "1\n",
            "\n"
          ],
          "name": "stdout"
        }
      ]
    },
    {
      "metadata": {
        "id": "uwkva7mIekP1",
        "colab_type": "text"
      },
      "cell_type": "markdown",
      "source": [
        "* **Exercise 10**\n",
        "\n",
        "컴퓨터가 0~30 사이의 정수를 임의로 생성하고, 사용자가 그 숫자를 맞히도록 유도하는 프로그램을 구현하시오."
      ]
    },
    {
      "metadata": {
        "id": "cgwlKgKbeqVl",
        "colab_type": "code",
        "colab": {
          "base_uri": "https://localhost:8080/",
          "height": 89
        },
        "outputId": "c609e1e6-4516-45ee-d282-3509e91ac756"
      },
      "cell_type": "code",
      "source": [
        "import random\n",
        "\n",
        "n = random.randint(0,30)\n",
        "\n",
        "while True:\n",
        "    num = input(\"Please enter a number between 0 and 30: \")\n",
        "    if num == n:\n",
        "        print \"correct!\"\n",
        "        break\n",
        "    elif num > n:\n",
        "        print \"too large!\"\n",
        "        continue\n",
        "    else:\n",
        "        print \"too small!\"\n",
        "        continue"
      ],
      "execution_count": 11,
      "outputs": [
        {
          "output_type": "stream",
          "text": [
            "Please enter a number between 0 and 30: 25\n",
            "too small!\n",
            "Please enter a number between 0 and 30: 29\n",
            "correct!\n"
          ],
          "name": "stdout"
        }
      ]
    },
    {
      "metadata": {
        "id": "se61V0M7e7XH",
        "colab_type": "text"
      },
      "cell_type": "markdown",
      "source": [
        "* **Exercise 11**\n",
        "\n",
        "삼각형 출력하기"
      ]
    },
    {
      "metadata": {
        "id": "ej8-iKbIfMco",
        "colab_type": "code",
        "colab": {
          "base_uri": "https://localhost:8080/",
          "height": 341
        },
        "outputId": "3836e62b-a1db-4b3b-d8a0-579b5b46df20"
      },
      "cell_type": "code",
      "source": [
        "num = input(\"Please enter a number: \")\n",
        "s = ''\n",
        "\n",
        "for a in range(1,num+1):\n",
        "    s = s + \"*\"*a\n",
        "    print s\n",
        "    s = ''\n",
        "\n",
        "\n",
        "\n",
        "num = input(\"Please enter a number: \")\n",
        "a=0\n",
        "s=''\n",
        "\n",
        "while a<num:\n",
        "    s = s + \"*\"*num\n",
        "    num = num - 1\n",
        "    print s\n",
        "    s = ''\n",
        "\n",
        "\n",
        "num = input(\"Please enter a number: \")\n",
        "s = ''\n",
        "\n",
        "for a in range(1,num+1):\n",
        "    s = s + ' '*(num-a) + \"*\"*a\n",
        "    print s\n",
        "    s = ''\n",
        "\n"
      ],
      "execution_count": 12,
      "outputs": [
        {
          "output_type": "stream",
          "text": [
            "Please enter a number: 5\n",
            "*\n",
            "**\n",
            "***\n",
            "****\n",
            "*****\n",
            "Please enter a number: 5\n",
            "*****\n",
            "****\n",
            "***\n",
            "**\n",
            "*\n",
            "Please enter a number: 5\n",
            "    *\n",
            "   **\n",
            "  ***\n",
            " ****\n",
            "*****\n"
          ],
          "name": "stdout"
        }
      ]
    }
  ]
}