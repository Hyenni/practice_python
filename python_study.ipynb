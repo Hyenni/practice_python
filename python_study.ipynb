{
  "nbformat": 4,
  "nbformat_minor": 0,
  "metadata": {
    "colab": {
      "name": "python_study.ipynb",
      "version": "0.3.2",
      "provenance": [],
      "collapsed_sections": [],
      "include_colab_link": true
    },
    "kernelspec": {
      "name": "python2",
      "display_name": "Python 2"
    }
  },
  "cells": [
    {
      "cell_type": "markdown",
      "metadata": {
        "id": "view-in-github",
        "colab_type": "text"
      },
      "source": [
        "<a href=\"https://colab.research.google.com/github/Hyenni/practice_python/blob/master/python_study.ipynb\" target=\"_parent\"><img src=\"https://colab.research.google.com/assets/colab-badge.svg\" alt=\"Open In Colab\"/></a>"
      ]
    },
    {
      "metadata": {
        "id": "-7qTHmECVQyM",
        "colab_type": "text"
      },
      "cell_type": "markdown",
      "source": [
        "* **Exercise 1**\n",
        "\n",
        "사과를 담는데 필요한 바구니의 수를 구하는 프로그램을 작성하시오.\n",
        "(사과의 개수와 바구니에 담을 수 있는 사과의 개수를 입력받고, 필요한 바구니의 개수를 출력하도록 한다)\n",
        "\n"
      ]
    },
    {
      "metadata": {
        "id": "dWP7jOfmVszi",
        "colab_type": "code",
        "colab": {
          "base_uri": "https://localhost:8080/",
          "height": 71
        },
        "outputId": "373e40ab-b442-4c72-951a-1fac7940d44e"
      },
      "cell_type": "code",
      "source": [
        "number_apple = input(\"the number of apples: \")\n",
        "basket = input(\"the size of basket: \")\n",
        "\n",
        "if (number_apple%basket) > 0:\n",
        "    needs = number_apple/basket + 1\n",
        "else:\n",
        "    needs = number_apple/basket\n",
        "\n",
        "\n",
        "print \"Number of needed basket: \", needs"
      ],
      "execution_count": 1,
      "outputs": [
        {
          "output_type": "stream",
          "text": [
            "the number of apples: 123\n",
            "the size of basket: 10\n",
            "Number of needed basket:  13\n"
          ],
          "name": "stdout"
        }
      ]
    },
    {
      "metadata": {
        "id": "oY3xVX8jWBg6",
        "colab_type": "text"
      },
      "cell_type": "markdown",
      "source": [
        "* **Exercise 2**\n",
        "\n",
        "변수의 num 값 중에 백의 자리 이하를 버리는 프로그램을 작성하시오."
      ]
    },
    {
      "metadata": {
        "id": "R5cXfx36Wdc6",
        "colab_type": "code",
        "colab": {
          "base_uri": "https://localhost:8080/",
          "height": 53
        },
        "outputId": "c447a78e-0419-4e8e-f503-e2254b4fba59"
      },
      "cell_type": "code",
      "source": [
        "num = input(\"Please enter a number: \")\n",
        "\n",
        "remainder = num%100\n",
        "\n",
        "final = num - remainder\n",
        "\n",
        "print final"
      ],
      "execution_count": 2,
      "outputs": [
        {
          "output_type": "stream",
          "text": [
            "Please enter a number: 456\n",
            "400\n"
          ],
          "name": "stdout"
        }
      ]
    },
    {
      "metadata": {
        "id": "BoJZGMztWm1i",
        "colab_type": "text"
      },
      "cell_type": "markdown",
      "source": [
        "* **Exercise 3**\n",
        "\n",
        "사용자로부터 4자리 숫자를 입력받아, 각 자리 수의 합을 구해 출력하는 프로그램을 구현하시오."
      ]
    },
    {
      "metadata": {
        "id": "LcWwJ55BWw--",
        "colab_type": "code",
        "colab": {
          "base_uri": "https://localhost:8080/",
          "height": 53
        },
        "outputId": "75765fe3-5038-42cc-e75a-8acea76fac5d"
      },
      "cell_type": "code",
      "source": [
        "#version_1\n",
        "\n",
        "num = input(\"input 4 digits: \")\n",
        "\n",
        "i=0\n",
        "sum=0\n",
        "\n",
        "while i<4:\n",
        "    sum = sum + num%10\n",
        "    num = num/10\n",
        "    i = i+1\n",
        "\n",
        "\n",
        "print sum"
      ],
      "execution_count": 3,
      "outputs": [
        {
          "output_type": "stream",
          "text": [
            "input 4 digits: 1234\n",
            "10\n"
          ],
          "name": "stdout"
        }
      ]
    },
    {
      "metadata": {
        "id": "aUzXUZ2CW5_6",
        "colab_type": "code",
        "colab": {
          "base_uri": "https://localhost:8080/",
          "height": 53
        },
        "outputId": "710e5431-9631-4b31-b2df-d06804e8e458"
      },
      "cell_type": "code",
      "source": [
        "#version2\n",
        "number = input(\"input 4 digits: \")\n",
        "\n",
        "num1 = number / 1000;\n",
        "number = number - (num1*1000);\n",
        "\n",
        "\n",
        "num2 = number / 100;\n",
        "number = number - (num2*100);\n",
        "\n",
        "\n",
        "num3 = number / 10;\n",
        "number = number - (num3*10);\n",
        "\n",
        "\n",
        "num4 = number / 1;\n",
        "\n",
        "\n",
        "print(num1 + num2 + num3 +num4)"
      ],
      "execution_count": 4,
      "outputs": [
        {
          "output_type": "stream",
          "text": [
            "input 4 digits: 9145\n",
            "19\n"
          ],
          "name": "stdout"
        }
      ]
    },
    {
      "metadata": {
        "id": "cv1MFysdW_BK",
        "colab_type": "text"
      },
      "cell_type": "markdown",
      "source": [
        "* **Exercise 4**\n",
        "\n",
        "사용자로부터 입력받은 문자열의 길이 (문자의 개수)를 출력하는 프로그램을 작성하시오. 또한 자료형은 무엇인지 출력하시오."
      ]
    },
    {
      "metadata": {
        "id": "adrrLYCYXIwE",
        "colab_type": "code",
        "colab": {
          "base_uri": "https://localhost:8080/",
          "height": 71
        },
        "outputId": "1e5a2125-c34b-4ed5-d107-5af94a6bd88e"
      },
      "cell_type": "code",
      "source": [
        "string1 = raw_input(\"Please enter a string: \")\n",
        "\n",
        "num = len(string1)\n",
        "typ = type(string1)\n",
        "\n",
        "print \"Number of characters: %d\" %num\n",
        "print \"Data type: %s\" %typ"
      ],
      "execution_count": 5,
      "outputs": [
        {
          "output_type": "stream",
          "text": [
            "Please enter a string: hello!python\n",
            "Number of characters: 12\n",
            "Data type: <type 'str'>\n"
          ],
          "name": "stdout"
        }
      ]
    },
    {
      "metadata": {
        "id": "7QMnXt6KZm_D",
        "colab_type": "text"
      },
      "cell_type": "markdown",
      "source": [
        "* **Exercise 5**\n",
        "\n",
        "while문을 이용하여 1부터 100까지 3으로 나눈 나머지가 2인 수들의 합을 계산하라."
      ]
    },
    {
      "metadata": {
        "id": "AE6Cv3JaZ2h0",
        "colab_type": "code",
        "colab": {
          "base_uri": "https://localhost:8080/",
          "height": 35
        },
        "outputId": "c0a3a730-4ba7-47ef-e5f1-30f30ce551f7"
      },
      "cell_type": "code",
      "source": [
        "i = 0\n",
        "sum = 0\n",
        "\n",
        "while i <= 100:\n",
        "    if i%3 == 2:\n",
        "        sum += i\n",
        "        i += 1\n",
        "    else:\n",
        "        i += 1\n",
        "\n",
        "\n",
        "print '3으로 나눈 나머지가 2인 수들의 합: ',sum"
      ],
      "execution_count": 6,
      "outputs": [
        {
          "output_type": "stream",
          "text": [
            "3으로 나눈 나머지가 2인 수들의 합:  1650\n"
          ],
          "name": "stdout"
        }
      ]
    },
    {
      "metadata": {
        "id": "LcbeLQTTaHps",
        "colab_type": "text"
      },
      "cell_type": "markdown",
      "source": [
        "* **Exercise 6**\n",
        "\n",
        "for문을 이용하여 1부터 20까지 4로 나눈 나머지가 0이거나 1인 수들의 곱을 계산하라."
      ]
    },
    {
      "metadata": {
        "id": "A-WObFBmaQBF",
        "colab_type": "code",
        "colab": {
          "base_uri": "https://localhost:8080/",
          "height": 35
        },
        "outputId": "b5d6acf8-7c88-461c-8da6-ee4beca3910f"
      },
      "cell_type": "code",
      "source": [
        "result = 1\n",
        "\n",
        "for i in range(1,21):\n",
        "    if i%4 == 0:\n",
        "        result *= i\n",
        "    elif i%4 == 1:\n",
        "        result *= i\n",
        "    else:\n",
        "        continue\n",
        "\n",
        "print '4로 나눈 나머지가 0이거나 1인 수들의 곱(1~20): ',result"
      ],
      "execution_count": 7,
      "outputs": [
        {
          "output_type": "stream",
          "text": [
            "4로 나눈 나머지가 0이거나 1인 수들의 곱(1~20):  1222041600\n"
          ],
          "name": "stdout"
        }
      ]
    },
    {
      "metadata": {
        "id": "6EEKdV3HaU0c",
        "colab_type": "text"
      },
      "cell_type": "markdown",
      "source": [
        "* **Exercise 7**\n",
        "\n",
        "사용자로부터 문자열과 숫자를 입력받아 숫자만큼 문자열을 반복하는 프로그램을 구현하시오."
      ]
    },
    {
      "metadata": {
        "id": "3xY7PYWiajYc",
        "colab_type": "code",
        "colab": {
          "base_uri": "https://localhost:8080/",
          "height": 71
        },
        "outputId": "77e458a2-34c1-42d2-9567-e3803d05d12c"
      },
      "cell_type": "code",
      "source": [
        "string = raw_input(\"Please enter a string: \")\n",
        "num = input(\"Please enter the number of times to repeat: \")\n",
        "\n",
        "\n",
        "print string * num"
      ],
      "execution_count": 8,
      "outputs": [
        {
          "output_type": "stream",
          "text": [
            "Please enter a string: python\n",
            "Please enter the number of times to repeat: 3\n",
            "pythonpythonpython\n"
          ],
          "name": "stdout"
        }
      ]
    },
    {
      "metadata": {
        "id": "BCt06d0_asH8",
        "colab_type": "text"
      },
      "cell_type": "markdown",
      "source": [
        "* **Exercise 8**\n",
        "\n",
        "사용자로부터 점수를 받아 해당하는 등급(a,b,c,d,e)을 출력하는 프로그램을 구현하시오.\n",
        "[0 입력시 종료]\n"
      ]
    },
    {
      "metadata": {
        "id": "7y7YHP2fa6cv",
        "colab_type": "code",
        "colab": {
          "base_uri": "https://localhost:8080/",
          "height": 125
        },
        "outputId": "359b11c0-e5cc-4c8e-8a0d-36692d6aa587"
      },
      "cell_type": "code",
      "source": [
        "while True:\n",
        "    score = input(\"Please enter your score: \")\n",
        "    if score == 0:\n",
        "        break\n",
        "    elif score >= 90:\n",
        "        print \"A\"\n",
        "    elif score >= 80:\n",
        "        print \"B\"\n",
        "    elif score >= 70:\n",
        "        print \"C\"\n",
        "    elif score >= 60:\n",
        "        print \"D\"\n",
        "    else:\n",
        "        print \"E\"\n",
        "\n",
        "print 'end'"
      ],
      "execution_count": 9,
      "outputs": [
        {
          "output_type": "stream",
          "text": [
            "Please enter your score: 90\n",
            "A\n",
            "Please enter your score: 55\n",
            "E\n",
            "Please enter your score: 0\n",
            "end\n"
          ],
          "name": "stdout"
        }
      ]
    },
    {
      "metadata": {
        "id": "RPY4xnM_dk9N",
        "colab_type": "text"
      },
      "cell_type": "markdown",
      "source": [
        "* **Exercise 9**\n",
        "\n",
        "논리연산자의 이해"
      ]
    },
    {
      "metadata": {
        "id": "pcnZBfeLeNpm",
        "colab_type": "code",
        "colab": {
          "base_uri": "https://localhost:8080/",
          "height": 197
        },
        "outputId": "f17000ef-05e7-45f3-b11e-c19ea73c8f9c"
      },
      "cell_type": "code",
      "source": [
        "print 2 and 1\n",
        "print 1 and 3\n",
        "print bool(1 and 3)\n",
        "print 2 or 1\n",
        "print [[]] or 1\n",
        "print bool([[]] or 1)\n",
        "print [{}] and 1\n",
        "print [{}] and 0\n",
        "print '' or 1\n",
        "print '' and 1"
      ],
      "execution_count": 10,
      "outputs": [
        {
          "output_type": "stream",
          "text": [
            "1\n",
            "3\n",
            "True\n",
            "2\n",
            "[[]]\n",
            "True\n",
            "1\n",
            "0\n",
            "1\n",
            "\n"
          ],
          "name": "stdout"
        }
      ]
    },
    {
      "metadata": {
        "id": "uwkva7mIekP1",
        "colab_type": "text"
      },
      "cell_type": "markdown",
      "source": [
        "* **Exercise 10**\n",
        "\n",
        "컴퓨터가 0~30 사이의 정수를 임의로 생성하고, 사용자가 그 숫자를 맞히도록 유도하는 프로그램을 구현하시오."
      ]
    },
    {
      "metadata": {
        "id": "cgwlKgKbeqVl",
        "colab_type": "code",
        "colab": {
          "base_uri": "https://localhost:8080/",
          "height": 89
        },
        "outputId": "c609e1e6-4516-45ee-d282-3509e91ac756"
      },
      "cell_type": "code",
      "source": [
        "import random\n",
        "\n",
        "n = random.randint(0,30)\n",
        "\n",
        "while True:\n",
        "    num = input(\"Please enter a number between 0 and 30: \")\n",
        "    if num == n:\n",
        "        print \"correct!\"\n",
        "        break\n",
        "    elif num > n:\n",
        "        print \"too large!\"\n",
        "        continue\n",
        "    else:\n",
        "        print \"too small!\"\n",
        "        continue"
      ],
      "execution_count": 11,
      "outputs": [
        {
          "output_type": "stream",
          "text": [
            "Please enter a number between 0 and 30: 25\n",
            "too small!\n",
            "Please enter a number between 0 and 30: 29\n",
            "correct!\n"
          ],
          "name": "stdout"
        }
      ]
    },
    {
      "metadata": {
        "id": "se61V0M7e7XH",
        "colab_type": "text"
      },
      "cell_type": "markdown",
      "source": [
        "* **Exercise 11**\n",
        "\n",
        "삼각형 출력하기"
      ]
    },
    {
      "metadata": {
        "id": "ej8-iKbIfMco",
        "colab_type": "code",
        "colab": {
          "base_uri": "https://localhost:8080/",
          "height": 341
        },
        "outputId": "3836e62b-a1db-4b3b-d8a0-579b5b46df20"
      },
      "cell_type": "code",
      "source": [
        "num = input(\"Please enter a number: \")\n",
        "s = ''\n",
        "\n",
        "for a in range(1,num+1):\n",
        "    s = s + \"*\"*a\n",
        "    print s\n",
        "    s = ''\n",
        "\n",
        "\n",
        "\n",
        "num = input(\"Please enter a number: \")\n",
        "a=0\n",
        "s=''\n",
        "\n",
        "while a<num:\n",
        "    s = s + \"*\"*num\n",
        "    num = num - 1\n",
        "    print s\n",
        "    s = ''\n",
        "\n",
        "\n",
        "num = input(\"Please enter a number: \")\n",
        "s = ''\n",
        "\n",
        "for a in range(1,num+1):\n",
        "    s = s + ' '*(num-a) + \"*\"*a\n",
        "    print s\n",
        "    s = ''\n",
        "\n"
      ],
      "execution_count": 12,
      "outputs": [
        {
          "output_type": "stream",
          "text": [
            "Please enter a number: 5\n",
            "*\n",
            "**\n",
            "***\n",
            "****\n",
            "*****\n",
            "Please enter a number: 5\n",
            "*****\n",
            "****\n",
            "***\n",
            "**\n",
            "*\n",
            "Please enter a number: 5\n",
            "    *\n",
            "   **\n",
            "  ***\n",
            " ****\n",
            "*****\n"
          ],
          "name": "stdout"
        }
      ]
    },
    {
      "metadata": {
        "id": "It90Lj_xf7np",
        "colab_type": "text"
      },
      "cell_type": "markdown",
      "source": [
        "* **Exercise 12**\n",
        "\n",
        "문자열 메소드 이해"
      ]
    },
    {
      "metadata": {
        "id": "kUe9DEUUghrX",
        "colab_type": "code",
        "colab": {
          "base_uri": "https://localhost:8080/",
          "height": 125
        },
        "outputId": "edac5340-ab59-4ff5-df33-bbf401571d74"
      },
      "cell_type": "code",
      "source": [
        "#replace\n",
        "s = 'Somewhere on the rainbow'\n",
        "\n",
        "s = s.replace('on','over')\n",
        "print s\n",
        "\n",
        "\n",
        "s = raw_input(\"Write anything you want: \")\n",
        "for i in s:\n",
        "    if i in [\"a\",\"e\",\"i\",\"o\",\"u\",\" \"]:\n",
        "        s = s.replace(i,\"\")\n",
        "print s\n",
        "\n",
        "\n",
        "#split\n",
        "s = '/user/local/bin/python'\n",
        "\n",
        "s = s.split('/')\n",
        "print s\n",
        "\n",
        "\n",
        "#count\n",
        "s = '''Python is a dynamic object-oriented programming language\n",
        "that can be used for many kinds of software development.\n",
        "It offers strong support for integration with other languages\n",
        "and tools, comes with extensive standard libraries, and can\n",
        "be learned in a few days. Many Python programmers report\n",
        "substantial productivity gains and feel the language encourages\n",
        "the development of higher quality, more maintainable code.\n",
        "'''\n",
        "\n",
        "num = s.count(\"\\n\")\n",
        "print num\n",
        "\n",
        "\n",
        "#lower\n",
        "s = 'spam Spam SpaM egg eGG Egg ham hAm'\n",
        "num = s.lower().count('spam')\n",
        "print num"
      ],
      "execution_count": 13,
      "outputs": [
        {
          "output_type": "stream",
          "text": [
            "Somewhere over the rainbow\n",
            "Write anything you want: aabecidoeu\n",
            "bcd\n",
            "['', 'user', 'local', 'bin', 'python']\n",
            "7\n",
            "3\n"
          ],
          "name": "stdout"
        }
      ]
    },
    {
      "metadata": {
        "id": "9RnmVdWXhPyP",
        "colab_type": "text"
      },
      "cell_type": "markdown",
      "source": [
        "* **Exercise 13**\n",
        "\n",
        "for문을 사용하여 어떤 주어진 문자열의 순서를 완전히 뒤집어라."
      ]
    },
    {
      "metadata": {
        "id": "CUKl2t3AhWhP",
        "colab_type": "code",
        "colab": {
          "base_uri": "https://localhost:8080/",
          "height": 35
        },
        "outputId": "f2a1e2d7-575d-4f30-e7b0-f2fb426bebc6"
      },
      "cell_type": "code",
      "source": [
        "#version1\n",
        "\n",
        "s='python'\n",
        "s_new=''\n",
        "length=len(s)\n",
        "\n",
        "for i in s:\n",
        "    length = length-1\n",
        "    s_new = s_new + s[length]\n",
        "print s_new"
      ],
      "execution_count": 14,
      "outputs": [
        {
          "output_type": "stream",
          "text": [
            "nohtyp\n"
          ],
          "name": "stdout"
        }
      ]
    },
    {
      "metadata": {
        "id": "0CDuNecMhyH1",
        "colab_type": "code",
        "colab": {
          "base_uri": "https://localhost:8080/",
          "height": 35
        },
        "outputId": "a846ff2f-f5a7-4907-b357-4f414fc1d61b"
      },
      "cell_type": "code",
      "source": [
        "#version2\n",
        "\n",
        "s='python'\n",
        "s_new=''\n",
        "length=len(s)\n",
        "\n",
        "for i in range(1,length+1):\n",
        "    s_new = s_new + s[length-i]\n",
        "\n",
        "print s_new"
      ],
      "execution_count": 15,
      "outputs": [
        {
          "output_type": "stream",
          "text": [
            "nohtyp\n"
          ],
          "name": "stdout"
        }
      ]
    },
    {
      "metadata": {
        "id": "9EVw8iKph90H",
        "colab_type": "text"
      },
      "cell_type": "markdown",
      "source": [
        "* **Exercise 14**\n",
        "\n",
        "다음 문장안의 단어들 길이의 평균을 구하는 프로그램을 작성하시오."
      ]
    },
    {
      "metadata": {
        "id": "3IYxI4D8iILI",
        "colab_type": "code",
        "colab": {
          "base_uri": "https://localhost:8080/",
          "height": 35
        },
        "outputId": "a14f8304-ca99-422b-f345-4351af48f9ca"
      },
      "cell_type": "code",
      "source": [
        "s = 'Write a program that calculates the average word length in a sentence'\n",
        "\n",
        "\n",
        "words = s.split()\n",
        "sum=0\n",
        "k=0\n",
        "\n",
        "for i in words:\n",
        "    length = len(i)\n",
        "    sum = sum + length\n",
        "    k = k + 1\n",
        "average = sum/k\n",
        "\n",
        "print average"
      ],
      "execution_count": 16,
      "outputs": [
        {
          "output_type": "stream",
          "text": [
            "4\n"
          ],
          "name": "stdout"
        }
      ]
    },
    {
      "metadata": {
        "id": "lsAu4hX0iLhf",
        "colab_type": "text"
      },
      "cell_type": "markdown",
      "source": [
        "* **Exercise 15**\n",
        "\n",
        "구(phrase)를 입력하면 두문자어(Acronym)으로 바꿔서 출력해주는 프로그램을 작성하시오."
      ]
    },
    {
      "metadata": {
        "id": "DW6TXBQyiXss",
        "colab_type": "code",
        "colab": {
          "base_uri": "https://localhost:8080/",
          "height": 53
        },
        "outputId": "43cb1cf8-168a-4e22-eebd-fc0ebf770610"
      },
      "cell_type": "code",
      "source": [
        "s = raw_input(\"insert phrase: \")\n",
        "\n",
        "acronym = ''\n",
        "words = s.split()\n",
        "\n",
        "for i in words:\n",
        "    acronym = acronym + i[0].upper()\n",
        "print s + \"'s acronym: \" ,acronym"
      ],
      "execution_count": 17,
      "outputs": [
        {
          "output_type": "stream",
          "text": [
            "insert phrase: central processing unit\n",
            "central processing unit's acronym:  CPU\n"
          ],
          "name": "stdout"
        }
      ]
    },
    {
      "metadata": {
        "id": "w8uCYms4i0Zz",
        "colab_type": "text"
      },
      "cell_type": "markdown",
      "source": [
        "* **Exercise 16**\n",
        "\n",
        "2진수로 표현된 자연수를 입력하면 10진수로 바꾸어 출력하는 프로그램을 작성하시오."
      ]
    },
    {
      "metadata": {
        "id": "gCuAe-1_i7cp",
        "colab_type": "code",
        "colab": {
          "base_uri": "https://localhost:8080/",
          "height": 53
        },
        "outputId": "fef4ea5c-1a39-4034-cbdd-14b0e685d6e4"
      },
      "cell_type": "code",
      "source": [
        "#version1\n",
        "s = input(\"insert binary number: \")\n",
        "\n",
        "num_two = s\n",
        "prod = 1\n",
        "num_ten = 0\n",
        "\n",
        "\n",
        "while num_two<>0:\n",
        "    number = num_two%10\n",
        "    num_ten = num_ten + number*prod\n",
        "    num_two = num_two/10\n",
        "    prod *= 2\n",
        "    \n",
        "print '%d를 십진수로 표현하면 %d 입니다.' %(s,num_ten)"
      ],
      "execution_count": 18,
      "outputs": [
        {
          "output_type": "stream",
          "text": [
            "insert binary number: 10101\n",
            "10101를 십진수로 표현하면 21 입니다.\n"
          ],
          "name": "stdout"
        }
      ]
    },
    {
      "metadata": {
        "id": "tiXJWCpPjFpA",
        "colab_type": "code",
        "colab": {
          "base_uri": "https://localhost:8080/",
          "height": 71
        },
        "outputId": "a6acb8c5-adbd-45d1-e042-3e43dcdf9800"
      },
      "cell_type": "code",
      "source": [
        "#version2\n",
        "num_two = raw_input('insert binary number: ')\n",
        "num_list = list(num_two)\n",
        "num_list.reverse()\n",
        "\n",
        "print num_list\n",
        "\n",
        "num_ten = 0\n",
        "n = 0\n",
        "\n",
        "for i in num_list:\n",
        "    ten = int(i) * (2 ** n)\n",
        "    num_ten += ten\n",
        "    n += 1\n",
        "  \n",
        "print num_two + '를 십진수로 표현하면 ' + '%d' % (num_ten) + '입니다.'"
      ],
      "execution_count": 19,
      "outputs": [
        {
          "output_type": "stream",
          "text": [
            "insert binary number: 111000\n",
            "['0', '0', '0', '1', '1', '1']\n",
            "111000를 십진수로 표현하면 56입니다.\n"
          ],
          "name": "stdout"
        }
      ]
    },
    {
      "metadata": {
        "id": "CWNZ0E0sjMUi",
        "colab_type": "text"
      },
      "cell_type": "markdown",
      "source": [
        "* **Exercise 17**\n",
        "\n",
        "Find the sum of all the multiples of 3 or 5 below 1000."
      ]
    },
    {
      "metadata": {
        "id": "9MCLWOYejeAo",
        "colab_type": "code",
        "colab": {
          "base_uri": "https://localhost:8080/",
          "height": 35
        },
        "outputId": "4627b192-83ca-4da5-b025-75c4a5bc32fe"
      },
      "cell_type": "code",
      "source": [
        "sum = 0\n",
        "\n",
        "for i in range(1,1000):\n",
        "    if i%3 == 0 or i%5 == 0:\n",
        "        sum += i\n",
        "\n",
        "print sum"
      ],
      "execution_count": 20,
      "outputs": [
        {
          "output_type": "stream",
          "text": [
            "233168\n"
          ],
          "name": "stdout"
        }
      ]
    },
    {
      "metadata": {
        "id": "1mCWu1i3jmEX",
        "colab_type": "text"
      },
      "cell_type": "markdown",
      "source": [
        "* **Exercise 18**\n",
        "\n",
        "문자열 s에 대해서 단어의 순서가 바뀐 문자열을 만들어라."
      ]
    },
    {
      "metadata": {
        "id": "PvBf-airkBXh",
        "colab_type": "code",
        "colab": {
          "base_uri": "https://localhost:8080/",
          "height": 53
        },
        "outputId": "52208567-e53b-4cd2-f2c0-13a780475c0d"
      },
      "cell_type": "code",
      "source": [
        "s = 'Sometimes I feel like a motherless child'\n",
        "\n",
        "words = s.split()\n",
        "words.reverse()\n",
        "print words\n",
        "\n",
        "str = ''\n",
        "for w in words:\n",
        "    str = str + w + ' '\n",
        "\n",
        "print str"
      ],
      "execution_count": 21,
      "outputs": [
        {
          "output_type": "stream",
          "text": [
            "['child', 'motherless', 'a', 'like', 'feel', 'I', 'Sometimes']\n",
            "child motherless a like feel I Sometimes \n"
          ],
          "name": "stdout"
        }
      ]
    },
    {
      "metadata": {
        "id": "RLd6U-TPksXS",
        "colab_type": "text"
      },
      "cell_type": "markdown",
      "source": [
        "* **Exercise 19**\n",
        "\n",
        "List Comprehension"
      ]
    },
    {
      "metadata": {
        "id": "YqLFQEYlk2qk",
        "colab_type": "code",
        "colab": {
          "base_uri": "https://localhost:8080/",
          "height": 109
        },
        "outputId": "1b4fe147-f482-4dce-e44e-b175938b1efa"
      },
      "cell_type": "code",
      "source": [
        "x = [1,2,3,4,5]\n",
        "\n",
        "square = [i*i for i in x]\n",
        "print square\n",
        "\n",
        "\n",
        "p = ['kim','hye','in']\n",
        "last_name = [i[-1] for i in p ]\n",
        "print last_name\n",
        "\n",
        "\n",
        "y = [1,2,3,4,5,6,7,8,9,10]\n",
        "multiple = [i for i in y if i%5==0]\n",
        "print multiple\n",
        "\n",
        "\n",
        "multiple7 = [(i,j,i*j) for i in range(3,100,3) for j in range(4,100,4) if (i+j)%7 == 0]\n",
        "print multiple7\n"
      ],
      "execution_count": 23,
      "outputs": [
        {
          "output_type": "stream",
          "text": [
            "[1, 4, 9, 16, 25]\n",
            "['m', 'e', 'n']\n",
            "[5, 10]\n",
            "[(3, 4, 12), (3, 32, 96), (3, 60, 180), (3, 88, 264), (6, 8, 48), (6, 36, 216), (6, 64, 384), (6, 92, 552), (9, 12, 108), (9, 40, 360), (9, 68, 612), (9, 96, 864), (12, 16, 192), (12, 44, 528), (12, 72, 864), (15, 20, 300), (15, 48, 720), (15, 76, 1140), (18, 24, 432), (18, 52, 936), (18, 80, 1440), (21, 28, 588), (21, 56, 1176), (21, 84, 1764), (24, 4, 96), (24, 32, 768), (24, 60, 1440), (24, 88, 2112), (27, 8, 216), (27, 36, 972), (27, 64, 1728), (27, 92, 2484), (30, 12, 360), (30, 40, 1200), (30, 68, 2040), (30, 96, 2880), (33, 16, 528), (33, 44, 1452), (33, 72, 2376), (36, 20, 720), (36, 48, 1728), (36, 76, 2736), (39, 24, 936), (39, 52, 2028), (39, 80, 3120), (42, 28, 1176), (42, 56, 2352), (42, 84, 3528), (45, 4, 180), (45, 32, 1440), (45, 60, 2700), (45, 88, 3960), (48, 8, 384), (48, 36, 1728), (48, 64, 3072), (48, 92, 4416), (51, 12, 612), (51, 40, 2040), (51, 68, 3468), (51, 96, 4896), (54, 16, 864), (54, 44, 2376), (54, 72, 3888), (57, 20, 1140), (57, 48, 2736), (57, 76, 4332), (60, 24, 1440), (60, 52, 3120), (60, 80, 4800), (63, 28, 1764), (63, 56, 3528), (63, 84, 5292), (66, 4, 264), (66, 32, 2112), (66, 60, 3960), (66, 88, 5808), (69, 8, 552), (69, 36, 2484), (69, 64, 4416), (69, 92, 6348), (72, 12, 864), (72, 40, 2880), (72, 68, 4896), (72, 96, 6912), (75, 16, 1200), (75, 44, 3300), (75, 72, 5400), (78, 20, 1560), (78, 48, 3744), (78, 76, 5928), (81, 24, 1944), (81, 52, 4212), (81, 80, 6480), (84, 28, 2352), (84, 56, 4704), (84, 84, 7056), (87, 4, 348), (87, 32, 2784), (87, 60, 5220), (87, 88, 7656), (90, 8, 720), (90, 36, 3240), (90, 64, 5760), (90, 92, 8280), (93, 12, 1116), (93, 40, 3720), (93, 68, 6324), (93, 96, 8928), (96, 16, 1536), (96, 44, 4224), (96, 72, 6912), (99, 20, 1980), (99, 48, 4752), (99, 76, 7524)]\n"
          ],
          "name": "stdout"
        }
      ]
    },
    {
      "metadata": {
        "id": "DgPu8jd1lcYY",
        "colab_type": "text"
      },
      "cell_type": "markdown",
      "source": [
        "* **Exercise 20**\n",
        "\n",
        "python 기숙사는 10층으로 되어있고, 층 별로 1개의 방이 있다. 각 방에는 1-5명까지의 사람들이 들어갈 수 있다. 이 때, 각 층별 학생 수와 전체 학생 수를 출력하는 프로그램을 작성해보시오. [리스트 이용]"
      ]
    },
    {
      "metadata": {
        "id": "B8NZZFQQmfqF",
        "colab_type": "code",
        "colab": {
          "base_uri": "https://localhost:8080/",
          "height": 215
        },
        "outputId": "cfae9534-d6e7-40ba-977d-b479c6647dda"
      },
      "cell_type": "code",
      "source": [
        "import random\n",
        "\n",
        "sum=0\n",
        "message = [0]*10\n",
        "\n",
        "for i in range(0,10):\n",
        "    n = random.randint(1,5)\n",
        "    message[i] = \"%d floor: %d person\" %(i+1,n)\n",
        "    print message[i]\n",
        "    sum += n\n",
        "print \"total: %d person\" %sum"
      ],
      "execution_count": 24,
      "outputs": [
        {
          "output_type": "stream",
          "text": [
            "1 floor: 1 person\n",
            "2 floor: 3 person\n",
            "3 floor: 4 person\n",
            "4 floor: 1 person\n",
            "5 floor: 4 person\n",
            "6 floor: 2 person\n",
            "7 floor: 2 person\n",
            "8 floor: 2 person\n",
            "9 floor: 4 person\n",
            "10 floor: 2 person\n",
            "total: 25 person\n"
          ],
          "name": "stdout"
        }
      ]
    },
    {
      "metadata": {
        "id": "ItgCQfz-msGS",
        "colab_type": "text"
      },
      "cell_type": "markdown",
      "source": [
        "* **Exercise 21**\n",
        "\n",
        "사용자로부터 자연수를 입력 받아 소수/합성수 여부를 판별하는 프로그램을 작성하시오."
      ]
    },
    {
      "metadata": {
        "id": "zFhekGX3m9Xk",
        "colab_type": "code",
        "colab": {
          "base_uri": "https://localhost:8080/",
          "height": 161
        },
        "outputId": "3a6017d4-fe75-4606-fd72-1930f9f028a2"
      },
      "cell_type": "code",
      "source": [
        "import math\n",
        "\n",
        "temp = True\n",
        "while temp:\n",
        "    number = input(\"insert natural number: \")\n",
        "    if number == 1:\n",
        "        print \"1 is not prime number and composite number\"\n",
        "    elif number < 1:\n",
        "        print \"please insert natural number!!!\"\n",
        "        temp = False\n",
        "    else:\n",
        "        for i in range(2,number+1):\n",
        "            if number%i == 0:\n",
        "                print \"%d is composite number\" %number\n",
        "                break\n",
        "            else:\n",
        "                print \"%d is prime number\" %number\n",
        "                break"
      ],
      "execution_count": 28,
      "outputs": [
        {
          "output_type": "stream",
          "text": [
            "insert natural number: 10\n",
            "10 is composite number\n",
            "insert natural number: 137\n",
            "137 is prime number\n",
            "insert natural number: 1\n",
            "1 is not prime number and composite number\n",
            "insert natural number: 0\n",
            "please insert natural number!!!\n"
          ],
          "name": "stdout"
        }
      ]
    }
  ]
}