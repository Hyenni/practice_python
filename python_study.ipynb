{
  "nbformat": 4,
  "nbformat_minor": 0,
  "metadata": {
    "colab": {
      "name": "python_basic.ipynb",
      "version": "0.3.2",
      "provenance": [],
      "include_colab_link": true
    },
    "kernelspec": {
      "name": "python2",
      "display_name": "Python 2"
    }
  },
  "cells": [
    {
      "cell_type": "markdown",
      "metadata": {
        "id": "view-in-github",
        "colab_type": "text"
      },
      "source": [
        "<a href=\"https://colab.research.google.com/github/Hyenni/practice_python/blob/master/python_study.ipynb\" target=\"_parent\"><img src=\"https://colab.research.google.com/assets/colab-badge.svg\" alt=\"Open In Colab\"/></a>"
      ]
    },
    {
      "metadata": {
        "id": "-7qTHmECVQyM",
        "colab_type": "text"
      },
      "cell_type": "markdown",
      "source": [
        "* **Exercise 1**\n",
        "\n",
        "사과를 담는데 필요한 바구니의 수를 구하는 프로그램을 작성하시오.\n",
        "(사과의 개수와 바구니에 담을 수 있는 사과의 개수를 입력받고, 필요한 바구니의 개수를 출력하도록 한다)\n",
        "\n"
      ]
    },
    {
      "metadata": {
        "id": "dWP7jOfmVszi",
        "colab_type": "code",
        "colab": {
          "base_uri": "https://localhost:8080/",
          "height": 71
        },
        "outputId": "aaac38d9-ba52-4599-e37b-876fd09336fa"
      },
      "cell_type": "code",
      "source": [
        "number_apple = input(\"사과의 개수: \")\n",
        "basket = input(\"바구니에 담을 수 있는 사과의 개수: \")\n",
        "\n",
        "if (number_apple%basket) > 0:\n",
        "    needs = number_apple/basket + 1\n",
        "else:\n",
        "    needs = number_apple/basket\n",
        "\n",
        "\n",
        "print \"총 %d개의 바구니가 필요합니다.\" %needs"
      ],
      "execution_count": 1,
      "outputs": [
        {
          "output_type": "stream",
          "text": [
            "사과의 개수: 123\n",
            "바구니에 담을 수 있는 사과의 개수: 10\n",
            "총 13개의 바구니가 필요합니다.\n"
          ],
          "name": "stdout"
        }
      ]
    },
    {
      "metadata": {
        "id": "oY3xVX8jWBg6",
        "colab_type": "text"
      },
      "cell_type": "markdown",
      "source": [
        "* **Exercise 2**\n",
        "\n",
        "변수의 num 값 중에 백의 자리 이하를 버리는 프로그램을 작성하시오."
      ]
    },
    {
      "metadata": {
        "id": "R5cXfx36Wdc6",
        "colab_type": "code",
        "colab": {
          "base_uri": "https://localhost:8080/",
          "height": 53
        },
        "outputId": "a7b49f59-bc03-4614-fbf3-231c7d807b4a"
      },
      "cell_type": "code",
      "source": [
        "num = input(\"숫자를 입력하세요: \")\n",
        "\n",
        "remainder = num%100\n",
        "\n",
        "final = num - remainder\n",
        "\n",
        "print final"
      ],
      "execution_count": 2,
      "outputs": [
        {
          "output_type": "stream",
          "text": [
            "숫자를 입력하세요: 456\n",
            "400\n"
          ],
          "name": "stdout"
        }
      ]
    },
    {
      "metadata": {
        "id": "BoJZGMztWm1i",
        "colab_type": "text"
      },
      "cell_type": "markdown",
      "source": [
        "* **Exercise 3**\n",
        "\n",
        "사용자로부터 4자리 숫자를 입력받아, 각 자리 수의 합을 구해 출력하는 프로그램을 구현하시오."
      ]
    },
    {
      "metadata": {
        "id": "LcWwJ55BWw--",
        "colab_type": "code",
        "colab": {
          "base_uri": "https://localhost:8080/",
          "height": 53
        },
        "outputId": "926f44fe-b05d-44d0-8aec-1082412aa71b"
      },
      "cell_type": "code",
      "source": [
        "#version_1\n",
        "\n",
        "num = input(\"input 4 digits: \")\n",
        "\n",
        "i=0\n",
        "sum=0\n",
        "\n",
        "while i<4:\n",
        "    sum = sum + num%10\n",
        "    num = num/10\n",
        "    i = i+1\n",
        "\n",
        "\n",
        "print sum"
      ],
      "execution_count": 3,
      "outputs": [
        {
          "output_type": "stream",
          "text": [
            "input 4 digits: 1234\n",
            "10\n"
          ],
          "name": "stdout"
        }
      ]
    },
    {
      "metadata": {
        "id": "aUzXUZ2CW5_6",
        "colab_type": "code",
        "colab": {
          "base_uri": "https://localhost:8080/",
          "height": 53
        },
        "outputId": "8e85f78f-a536-4f35-fedc-f7b15e1a1174"
      },
      "cell_type": "code",
      "source": [
        "#version2\n",
        "number = input(\"input 4 digits: \")\n",
        "\n",
        "num1 = number / 1000;\n",
        "number = number - (num1*1000);\n",
        "\n",
        "\n",
        "num2 = number / 100;\n",
        "number = number - (num2*100);\n",
        "\n",
        "\n",
        "num3 = number / 10;\n",
        "number = number - (num3*10);\n",
        "\n",
        "\n",
        "num4 = number / 1;\n",
        "\n",
        "\n",
        "print(num1 + num2 + num3 +num4)"
      ],
      "execution_count": 4,
      "outputs": [
        {
          "output_type": "stream",
          "text": [
            "input 4 digits: 9145\n",
            "19\n"
          ],
          "name": "stdout"
        }
      ]
    },
    {
      "metadata": {
        "id": "cv1MFysdW_BK",
        "colab_type": "text"
      },
      "cell_type": "markdown",
      "source": [
        "* **Exercise 4**\n",
        "\n",
        "사용자로부터 입력받은 문자열의 길이 (문자의 개수)를 출력하는 프로그램을 작성하시오. 또한 자료형은 무엇인지 출력하시오."
      ]
    },
    {
      "metadata": {
        "id": "adrrLYCYXIwE",
        "colab_type": "code",
        "colab": {
          "base_uri": "https://localhost:8080/",
          "height": 71
        },
        "outputId": "695e5e43-0237-4e5b-8c89-62992de12ade"
      },
      "cell_type": "code",
      "source": [
        "string1 = raw_input(\"문자열을 입력해주세요: \")\n",
        "\n",
        "num = len(string1)\n",
        "typ = type(string1)\n",
        "\n",
        "print \"문자의 개수: %d\" %num\n",
        "print \"자료형: %s\" %typ"
      ],
      "execution_count": 5,
      "outputs": [
        {
          "output_type": "stream",
          "text": [
            "문자열을 입력해주세요: hello!python\n",
            "문자의 개수: 12\n",
            "자료형: <type 'str'>\n"
          ],
          "name": "stdout"
        }
      ]
    }
  ]
}